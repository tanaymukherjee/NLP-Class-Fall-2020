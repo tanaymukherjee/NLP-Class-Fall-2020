{
 "cells": [
  {
   "cell_type": "markdown",
   "metadata": {},
   "source": [
    "## 6. Learning to Classify Text"
   ]
  },
  {
   "cell_type": "markdown",
   "metadata": {},
   "source": [
    "### 1.1 Gender Identification"
   ]
  },
  {
   "cell_type": "markdown",
   "metadata": {},
   "source": [
    "#### In Chapter 4, we saw that male and female names have some distinctive characteristics. Names ending in a, e and i are likely to be female, while names ending in k, o, r, s and t are likely to be male. Let's build a classifier to model these differences more precisely."
   ]
  },
  {
   "cell_type": "markdown",
   "metadata": {},
   "source": [
    "#### The first step in creating a classifier is deciding what features of the input are relevant, and how to encode those features. For this example, we'll start by just looking at the final letter of a given name. The following feature extractor function builds a dictionary containing relevant information about a given name:"
   ]
  },
  {
   "cell_type": "code",
   "execution_count": 1,
   "metadata": {},
   "outputs": [],
   "source": [
    "import nltk"
   ]
  },
  {
   "cell_type": "code",
   "execution_count": 2,
   "metadata": {},
   "outputs": [],
   "source": [
    "def gender_features(word):\n",
    "    return {'last_letter': word[-1]}"
   ]
  },
  {
   "cell_type": "code",
   "execution_count": 3,
   "metadata": {},
   "outputs": [
    {
     "data": {
      "text/plain": [
       "{'last_letter': 'k'}"
      ]
     },
     "execution_count": 3,
     "metadata": {},
     "output_type": "execute_result"
    }
   ],
   "source": [
    "gender_features('Shrek')"
   ]
  },
  {
   "cell_type": "markdown",
   "metadata": {},
   "source": [
    "#### The returned dictionary, known as a feature set, maps from feature names to their values. Feature names are case-sensitive strings that typically provide a short human-readable description of the feature, as in the example 'last_letter'."
   ]
  },
  {
   "cell_type": "markdown",
   "metadata": {},
   "source": [
    "#### Now that we've defined a feature extractor, we need to prepare a list of examples and corresponding class labels. "
   ]
  },
  {
   "cell_type": "code",
   "execution_count": 4,
   "metadata": {},
   "outputs": [],
   "source": [
    "from nltk.corpus import names"
   ]
  },
  {
   "cell_type": "code",
   "execution_count": 5,
   "metadata": {},
   "outputs": [],
   "source": [
    "labeled_names = ([(name, 'male') for name in names.words('male.txt')] +\n",
    "   [(name, 'female') for name in names.words('female.txt')])"
   ]
  },
  {
   "cell_type": "code",
   "execution_count": 6,
   "metadata": {},
   "outputs": [
    {
     "data": {
      "text/plain": [
       "7944"
      ]
     },
     "execution_count": 6,
     "metadata": {},
     "output_type": "execute_result"
    }
   ],
   "source": [
    "len(labeled_names)"
   ]
  },
  {
   "cell_type": "code",
   "execution_count": 7,
   "metadata": {},
   "outputs": [],
   "source": [
    "import random"
   ]
  },
  {
   "cell_type": "code",
   "execution_count": 8,
   "metadata": {},
   "outputs": [],
   "source": [
    "random.seed(1)"
   ]
  },
  {
   "cell_type": "code",
   "execution_count": 9,
   "metadata": {},
   "outputs": [],
   "source": [
    "random.shuffle(labeled_names)"
   ]
  },
  {
   "cell_type": "markdown",
   "metadata": {},
   "source": [
    "#### Next, we use the feature extractor to process the names data, and divide the resulting list of feature sets into a training set and a test set. The training set is used to train a new \"naive Bayes\" classifier. (See Slides)\n"
   ]
  },
  {
   "cell_type": "code",
   "execution_count": 10,
   "metadata": {},
   "outputs": [],
   "source": [
    "featuresets = [(gender_features(n), gender) for (n, gender) in labeled_names]"
   ]
  },
  {
   "cell_type": "code",
   "execution_count": 11,
   "metadata": {},
   "outputs": [],
   "source": [
    "train_set, test_set = featuresets[500:], featuresets[:500]"
   ]
  },
  {
   "cell_type": "code",
   "execution_count": 12,
   "metadata": {},
   "outputs": [],
   "source": [
    "classifier = nltk.NaiveBayesClassifier.train(train_set)"
   ]
  },
  {
   "cell_type": "markdown",
   "metadata": {},
   "source": [
    "#### We will learn more about the naive Bayes classifier later in the chapter. For now, let's just test it out on some names that did not appear in its training data:"
   ]
  },
  {
   "cell_type": "code",
   "execution_count": 13,
   "metadata": {},
   "outputs": [
    {
     "data": {
      "text/plain": [
       "'male'"
      ]
     },
     "execution_count": 13,
     "metadata": {},
     "output_type": "execute_result"
    }
   ],
   "source": [
    "classifier.classify(gender_features('Neo'))"
   ]
  },
  {
   "cell_type": "code",
   "execution_count": 14,
   "metadata": {},
   "outputs": [
    {
     "data": {
      "text/plain": [
       "'female'"
      ]
     },
     "execution_count": 14,
     "metadata": {},
     "output_type": "execute_result"
    }
   ],
   "source": [
    "classifier.classify(gender_features('Trinity'))"
   ]
  },
  {
   "cell_type": "markdown",
   "metadata": {},
   "source": [
    "#### Observe that these character names from The Matrix are correctly classified. Although this science fiction movie is set in 2199, it still conforms with our expectations about names and genders. We can systematically evaluate the classifier on a much larger quantity of unseen data:"
   ]
  },
  {
   "cell_type": "code",
   "execution_count": 15,
   "metadata": {},
   "outputs": [
    {
     "name": "stdout",
     "output_type": "stream",
     "text": [
      "0.78\n"
     ]
    }
   ],
   "source": [
    "print(nltk.classify.accuracy(classifier, test_set))"
   ]
  },
  {
   "cell_type": "markdown",
   "metadata": {},
   "source": [
    "#### Finally, we can examine the classifier to determine which features it found most effective for distinguishing the names' genders:"
   ]
  },
  {
   "cell_type": "code",
   "execution_count": 16,
   "metadata": {
    "scrolled": true
   },
   "outputs": [
    {
     "name": "stdout",
     "output_type": "stream",
     "text": [
      "Most Informative Features\n",
      "             last_letter = 'a'            female : male   =     35.7 : 1.0\n",
      "             last_letter = 'k'              male : female =     32.1 : 1.0\n",
      "             last_letter = 'p'              male : female =     18.6 : 1.0\n",
      "             last_letter = 'f'              male : female =     17.2 : 1.0\n",
      "             last_letter = 'v'              male : female =     11.1 : 1.0\n"
     ]
    }
   ],
   "source": [
    "classifier.show_most_informative_features(5)"
   ]
  },
  {
   "cell_type": "markdown",
   "metadata": {},
   "source": [
    "#### This listing shows that the names in the training set that end in \"a\" are female 36 times more often than they are male, but names that end in \"k\" are male 32 times more often than they are female. These ratios are known as likelihood ratios, and can be useful for comparing different feature-outcome relationships."
   ]
  },
  {
   "cell_type": "markdown",
   "metadata": {},
   "source": [
    "### Exercise 1. Use this classifier to test your own names or any names of your own choosing."
   ]
  },
  {
   "cell_type": "code",
   "execution_count": 17,
   "metadata": {},
   "outputs": [
    {
     "data": {
      "text/plain": [
       "'female'"
      ]
     },
     "execution_count": 17,
     "metadata": {},
     "output_type": "execute_result"
    }
   ],
   "source": [
    "classifier.classify(gender_features('Alice'))"
   ]
  },
  {
   "cell_type": "markdown",
   "metadata": {},
   "source": [
    "### Exercise 2. Modify the gender_features() function to provide the classifier with features encoding the length of the name, or its first letter. Retrain the classifier with these new features, and test its accuracy. (3 minutes)"
   ]
  },
  {
   "cell_type": "code",
   "execution_count": 27,
   "metadata": {},
   "outputs": [],
   "source": [
    "def gender_features1(word):\n",
    "    return {'first_letter': word[0]}"
   ]
  },
  {
   "cell_type": "code",
   "execution_count": 20,
   "metadata": {},
   "outputs": [],
   "source": [
    "featuresets = [(gender_features1(n), gender) for (n, gender) in labeled_names]"
   ]
  },
  {
   "cell_type": "code",
   "execution_count": 21,
   "metadata": {},
   "outputs": [],
   "source": [
    "train_set, test_set = featuresets[500:], featuresets[:500]"
   ]
  },
  {
   "cell_type": "code",
   "execution_count": 22,
   "metadata": {},
   "outputs": [],
   "source": [
    "classifier = nltk.NaiveBayesClassifier.train(train_set)"
   ]
  },
  {
   "cell_type": "code",
   "execution_count": 23,
   "metadata": {},
   "outputs": [
    {
     "name": "stdout",
     "output_type": "stream",
     "text": [
      "0.64\n"
     ]
    }
   ],
   "source": [
    "print(nltk.classify.accuracy(classifier, test_set))"
   ]
  },
  {
   "cell_type": "code",
   "execution_count": 28,
   "metadata": {},
   "outputs": [],
   "source": [
    "def gender_features2(word):\n",
    "    return {'word_length': len(word)}"
   ]
  },
  {
   "cell_type": "code",
   "execution_count": 29,
   "metadata": {},
   "outputs": [],
   "source": [
    "featuresets = [(gender_features2(n), gender) for (n, gender) in labeled_names]"
   ]
  },
  {
   "cell_type": "code",
   "execution_count": 30,
   "metadata": {},
   "outputs": [],
   "source": [
    "train_set, test_set = featuresets[500:], featuresets[:500]"
   ]
  },
  {
   "cell_type": "code",
   "execution_count": 31,
   "metadata": {},
   "outputs": [],
   "source": [
    "classifier = nltk.NaiveBayesClassifier.train(train_set)"
   ]
  },
  {
   "cell_type": "code",
   "execution_count": 32,
   "metadata": {},
   "outputs": [
    {
     "name": "stdout",
     "output_type": "stream",
     "text": [
      "0.654\n"
     ]
    }
   ],
   "source": [
    "print(nltk.classify.accuracy(classifier, test_set))"
   ]
  },
  {
   "cell_type": "markdown",
   "metadata": {},
   "source": [
    "### 1.2   Choosing The Right Features"
   ]
  },
  {
   "cell_type": "markdown",
   "metadata": {},
   "source": [
    "#### Selecting relevant features and deciding how to encode them for a learning method can have an enormous impact on the learning method's ability to extract a good model. Much of the interesting work in building a classifier is deciding what features might be relevant, and how we can represent them. Although it's often possible to get decent performance by using a fairly simple and obvious set of features, there are usually significant gains to be had by using carefully constructed features based on a thorough understanding of the task at hand"
   ]
  },
  {
   "cell_type": "markdown",
   "metadata": {},
   "source": [
    "#### Typically, feature extractors are built through a process of trial-and-error, guided by intuitions about what information is relevant to the problem"
   ]
  },
  {
   "cell_type": "markdown",
   "metadata": {},
   "source": [
    "#### It's common to start with a \"kitchen sink\" approach, including all the features that you can think of, and then checking to see which features actually are helpful."
   ]
  },
  {
   "cell_type": "code",
   "execution_count": 33,
   "metadata": {},
   "outputs": [],
   "source": [
    "def gender_features2(name):\n",
    "    features = {}\n",
    "    features[\"first_letter\"] = name[0].lower()\n",
    "    features[\"last_letter\"] = name[-1].lower()\n",
    "    for letter in 'abcdefghijklmnopqrstuvwxyz':\n",
    "        features[\"count({})\".format(letter)] = name.lower().count(letter)\n",
    "        features[\"has({})\".format(letter)] = (letter in name.lower())\n",
    "    return features"
   ]
  },
  {
   "cell_type": "code",
   "execution_count": 34,
   "metadata": {},
   "outputs": [
    {
     "data": {
      "text/plain": [
       "{'first_letter': 'j',\n",
       " 'last_letter': 'n',\n",
       " 'count(a)': 0,\n",
       " 'has(a)': False,\n",
       " 'count(b)': 0,\n",
       " 'has(b)': False,\n",
       " 'count(c)': 0,\n",
       " 'has(c)': False,\n",
       " 'count(d)': 0,\n",
       " 'has(d)': False,\n",
       " 'count(e)': 0,\n",
       " 'has(e)': False,\n",
       " 'count(f)': 0,\n",
       " 'has(f)': False,\n",
       " 'count(g)': 0,\n",
       " 'has(g)': False,\n",
       " 'count(h)': 1,\n",
       " 'has(h)': True,\n",
       " 'count(i)': 0,\n",
       " 'has(i)': False,\n",
       " 'count(j)': 1,\n",
       " 'has(j)': True,\n",
       " 'count(k)': 0,\n",
       " 'has(k)': False,\n",
       " 'count(l)': 0,\n",
       " 'has(l)': False,\n",
       " 'count(m)': 0,\n",
       " 'has(m)': False,\n",
       " 'count(n)': 1,\n",
       " 'has(n)': True,\n",
       " 'count(o)': 1,\n",
       " 'has(o)': True,\n",
       " 'count(p)': 0,\n",
       " 'has(p)': False,\n",
       " 'count(q)': 0,\n",
       " 'has(q)': False,\n",
       " 'count(r)': 0,\n",
       " 'has(r)': False,\n",
       " 'count(s)': 0,\n",
       " 'has(s)': False,\n",
       " 'count(t)': 0,\n",
       " 'has(t)': False,\n",
       " 'count(u)': 0,\n",
       " 'has(u)': False,\n",
       " 'count(v)': 0,\n",
       " 'has(v)': False,\n",
       " 'count(w)': 0,\n",
       " 'has(w)': False,\n",
       " 'count(x)': 0,\n",
       " 'has(x)': False,\n",
       " 'count(y)': 0,\n",
       " 'has(y)': False,\n",
       " 'count(z)': 0,\n",
       " 'has(z)': False}"
      ]
     },
     "execution_count": 34,
     "metadata": {},
     "output_type": "execute_result"
    }
   ],
   "source": [
    "gender_features2('John')"
   ]
  },
  {
   "cell_type": "markdown",
   "metadata": {},
   "source": [
    "#### However, there are usually limits to the number of features that you should use with a given learning algorithm — if you provide too many features, then the algorithm will have a higher chance of relying on idiosyncrasies of your training data that don't generalize well to new examples. This problem is known as overfitting, and can be especially problematic when working with small training sets. (See Slides)"
   ]
  },
  {
   "cell_type": "code",
   "execution_count": 35,
   "metadata": {},
   "outputs": [],
   "source": [
    "featuresets = [(gender_features2(n), gender) for (n, gender) in labeled_names]"
   ]
  },
  {
   "cell_type": "code",
   "execution_count": 36,
   "metadata": {},
   "outputs": [],
   "source": [
    "train_set, test_set = featuresets[500:], featuresets[:500]"
   ]
  },
  {
   "cell_type": "code",
   "execution_count": 37,
   "metadata": {},
   "outputs": [],
   "source": [
    "classifier = nltk.NaiveBayesClassifier.train(train_set)"
   ]
  },
  {
   "cell_type": "code",
   "execution_count": 38,
   "metadata": {},
   "outputs": [
    {
     "name": "stdout",
     "output_type": "stream",
     "text": [
      "0.78\n"
     ]
    }
   ],
   "source": [
    "print(nltk.classify.accuracy(classifier, test_set))"
   ]
  },
  {
   "cell_type": "markdown",
   "metadata": {},
   "source": [
    "#### Once an initial set of features has been chosen, a very productive method for refining the feature set is error analysis. First, we select a development set, containing the corpus data for creating the model. This development set is then subdivided into the training set and the dev-test set. (See Slides)"
   ]
  },
  {
   "cell_type": "code",
   "execution_count": 39,
   "metadata": {},
   "outputs": [],
   "source": [
    "train_names = labeled_names[1500:]"
   ]
  },
  {
   "cell_type": "code",
   "execution_count": 40,
   "metadata": {},
   "outputs": [],
   "source": [
    "devtest_names = labeled_names[500:1500]"
   ]
  },
  {
   "cell_type": "code",
   "execution_count": 41,
   "metadata": {},
   "outputs": [],
   "source": [
    "test_names = labeled_names[:500]"
   ]
  },
  {
   "cell_type": "markdown",
   "metadata": {},
   "source": [
    "#### Having divided the corpus into appropriate datasets, we train a model using the training set [1], and then run it on the dev-test set[2]."
   ]
  },
  {
   "cell_type": "code",
   "execution_count": 42,
   "metadata": {},
   "outputs": [],
   "source": [
    "train_set = [(gender_features(n), gender) for (n, gender) in train_names]"
   ]
  },
  {
   "cell_type": "code",
   "execution_count": 43,
   "metadata": {},
   "outputs": [],
   "source": [
    "devtest_set = [(gender_features(n), gender) for (n, gender) in devtest_names]"
   ]
  },
  {
   "cell_type": "code",
   "execution_count": 44,
   "metadata": {},
   "outputs": [],
   "source": [
    "test_set = [(gender_features(n), gender) for (n, gender) in test_names]"
   ]
  },
  {
   "cell_type": "code",
   "execution_count": 45,
   "metadata": {},
   "outputs": [],
   "source": [
    "classifier = nltk.NaiveBayesClassifier.train(train_set) #1"
   ]
  },
  {
   "cell_type": "code",
   "execution_count": 46,
   "metadata": {},
   "outputs": [
    {
     "name": "stdout",
     "output_type": "stream",
     "text": [
      "0.753\n"
     ]
    }
   ],
   "source": [
    "print(nltk.classify.accuracy(classifier, devtest_set)) #2"
   ]
  },
  {
   "cell_type": "markdown",
   "metadata": {},
   "source": [
    "#### Using the dev-test set, we can generate a list of the errors that the classifier makes when predicting name genders:"
   ]
  },
  {
   "cell_type": "code",
   "execution_count": 47,
   "metadata": {},
   "outputs": [],
   "source": [
    "errors = []"
   ]
  },
  {
   "cell_type": "code",
   "execution_count": 48,
   "metadata": {},
   "outputs": [],
   "source": [
    "for (name, tag) in devtest_names:\n",
    "    guess = classifier.classify(gender_features(name))\n",
    "    if guess != tag:\n",
    "        errors.append( (tag, guess, name) )"
   ]
  },
  {
   "cell_type": "markdown",
   "metadata": {},
   "source": [
    "#### We can then examine individual error cases where the model predicted the wrong label, and try to determine what additional pieces of information would allow it to make the right decision (or which existing pieces of information are tricking it into making the wrong decision). The feature set can then be adjusted accordingly. The names classifier that we have built generates about 100 errors on the dev-test corpus:"
   ]
  },
  {
   "cell_type": "code",
   "execution_count": 49,
   "metadata": {},
   "outputs": [
    {
     "name": "stdout",
     "output_type": "stream",
     "text": [
      "correct=female   guess=male     name=Adelind                       \n",
      "correct=female   guess=male     name=Allyson                       \n",
      "correct=female   guess=male     name=Alyss                         \n",
      "correct=female   guess=male     name=Anett                         \n",
      "correct=female   guess=male     name=Ardis                         \n",
      "correct=female   guess=male     name=Beatriz                       \n",
      "correct=female   guess=male     name=Beitris                       \n",
      "correct=female   guess=male     name=Berget                        \n",
      "correct=female   guess=male     name=Bette-Ann                     \n",
      "correct=female   guess=male     name=Bird                          \n",
      "correct=female   guess=male     name=Bliss                         \n",
      "correct=female   guess=male     name=Brittan                       \n",
      "correct=female   guess=male     name=Caitlin                       \n",
      "correct=female   guess=male     name=Cam                           \n",
      "correct=female   guess=male     name=Caro                          \n",
      "correct=female   guess=male     name=Caroljean                     \n",
      "correct=female   guess=male     name=Carolyn                       \n",
      "correct=female   guess=male     name=Carolynn                      \n",
      "correct=female   guess=male     name=Cathleen                      \n",
      "correct=female   guess=male     name=Catlin                        \n",
      "correct=female   guess=male     name=Charleen                      \n",
      "correct=female   guess=male     name=Cherilynn                     \n",
      "correct=female   guess=male     name=Chriss                        \n",
      "correct=female   guess=male     name=Christan                      \n",
      "correct=female   guess=male     name=Christen                      \n",
      "correct=female   guess=male     name=Clair                         \n",
      "correct=female   guess=male     name=Consuelo                      \n",
      "correct=female   guess=male     name=Dallas                        \n",
      "correct=female   guess=male     name=Dawn                          \n",
      "correct=female   guess=male     name=Diahann                       \n",
      "correct=female   guess=male     name=Diann                         \n",
      "correct=female   guess=male     name=Dionis                        \n",
      "correct=female   guess=male     name=Easter                        \n",
      "correct=female   guess=male     name=Eden                          \n",
      "correct=female   guess=male     name=Eilis                         \n",
      "correct=female   guess=male     name=Ellen                         \n",
      "correct=female   guess=male     name=Ellynn                        \n",
      "correct=female   guess=male     name=Emmalynn                      \n",
      "correct=female   guess=male     name=Ester                         \n",
      "correct=female   guess=male     name=Evangelin                     \n",
      "correct=female   guess=male     name=Fanchon                       \n",
      "correct=female   guess=male     name=Gaynor                        \n",
      "correct=female   guess=male     name=Gwendolen                     \n",
      "correct=female   guess=male     name=Harriet                       \n",
      "correct=female   guess=male     name=Hedwig                        \n",
      "correct=female   guess=male     name=Janeen                        \n",
      "correct=female   guess=male     name=Janot                         \n",
      "correct=female   guess=male     name=Jaquelin                      \n",
      "correct=female   guess=male     name=Jo Ann                        \n",
      "correct=female   guess=male     name=Jo-Ann                        \n",
      "correct=female   guess=male     name=Jocelyn                       \n",
      "correct=female   guess=male     name=Jonis                         \n",
      "correct=female   guess=male     name=Jordan                        \n",
      "correct=female   guess=male     name=Joslyn                        \n",
      "correct=female   guess=male     name=Joyann                        \n",
      "correct=female   guess=male     name=Karen                         \n",
      "correct=female   guess=male     name=Katlin                        \n",
      "correct=female   guess=male     name=Kerstin                       \n",
      "correct=female   guess=male     name=Kirstyn                       \n",
      "correct=female   guess=male     name=Kris                          \n",
      "correct=female   guess=male     name=Kristien                      \n",
      "correct=female   guess=male     name=Lamb                          \n",
      "correct=female   guess=male     name=Leanor                        \n",
      "correct=female   guess=male     name=Leeann                        \n",
      "correct=female   guess=male     name=Linn                          \n",
      "correct=female   guess=male     name=Lois                          \n",
      "correct=female   guess=male     name=Mair                          \n",
      "correct=female   guess=male     name=Marget                        \n",
      "correct=female   guess=male     name=Margot                        \n",
      "correct=female   guess=male     name=Margret                       \n",
      "correct=female   guess=male     name=Marie-Ann                     \n",
      "correct=female   guess=male     name=Marris                        \n",
      "correct=female   guess=male     name=Meg                           \n",
      "correct=female   guess=male     name=Megen                         \n",
      "correct=female   guess=male     name=Meghan                        \n",
      "correct=female   guess=male     name=Miran                         \n",
      "correct=female   guess=male     name=Philis                        \n",
      "correct=female   guess=male     name=Phyllys                       \n",
      "correct=female   guess=male     name=Piper                         \n",
      "correct=female   guess=male     name=Robinet                       \n",
      "correct=female   guess=male     name=Robyn                         \n",
      "correct=female   guess=male     name=Rosamond                      \n",
      "correct=female   guess=male     name=Shannen                       \n",
      "correct=female   guess=male     name=Shaylynn                      \n",
      "correct=female   guess=male     name=Sioux                         \n",
      "correct=female   guess=male     name=Suzan                         \n",
      "correct=female   guess=male     name=Tamiko                        \n",
      "correct=female   guess=male     name=Tomiko                        \n",
      "correct=female   guess=male     name=Viv                           \n",
      "correct=female   guess=male     name=Willyt                        \n",
      "correct=female   guess=male     name=Yoshiko                       \n",
      "correct=male     guess=female   name=Abdul                         \n",
      "correct=male     guess=female   name=Aguste                        \n",
      "correct=male     guess=female   name=Ajay                          \n",
      "correct=male     guess=female   name=Aldrich                       \n",
      "correct=male     guess=female   name=Alfonse                       \n",
      "correct=male     guess=female   name=Allah                         \n",
      "correct=male     guess=female   name=Alley                         \n",
      "correct=male     guess=female   name=Amery                         \n",
      "correct=male     guess=female   name=Angie                         \n",
      "correct=male     guess=female   name=Arel                          \n",
      "correct=male     guess=female   name=Arvy                          \n",
      "correct=male     guess=female   name=Ashby                         \n",
      "correct=male     guess=female   name=Augustine                     \n",
      "correct=male     guess=female   name=Avery                         \n",
      "correct=male     guess=female   name=Avi                           \n",
      "correct=male     guess=female   name=Baillie                       \n",
      "correct=male     guess=female   name=Barth                         \n",
      "correct=male     guess=female   name=Barty                         \n",
      "correct=male     guess=female   name=Bertie                        \n",
      "correct=male     guess=female   name=Binky                         \n",
      "correct=male     guess=female   name=Blayne                        \n",
      "correct=male     guess=female   name=Brady                         \n",
      "correct=male     guess=female   name=Brody                         \n",
      "correct=male     guess=female   name=Brooke                        \n",
      "correct=male     guess=female   name=Burl                          \n",
      "correct=male     guess=female   name=Chance                        \n",
      "correct=male     guess=female   name=Clare                         \n",
      "correct=male     guess=female   name=Clarence                      \n",
      "correct=male     guess=female   name=Clay                          \n",
      "correct=male     guess=female   name=Clayborne                     \n",
      "correct=male     guess=female   name=Clive                         \n",
      "correct=male     guess=female   name=Cody                          \n",
      "correct=male     guess=female   name=Curtice                       \n",
      "correct=male     guess=female   name=Daffy                         \n",
      "correct=male     guess=female   name=Dane                          \n",
      "correct=male     guess=female   name=Darrell                       \n",
      "correct=male     guess=female   name=Dave                          \n",
      "correct=male     guess=female   name=Davie                         \n",
      "correct=male     guess=female   name=Davy                          \n",
      "correct=male     guess=female   name=Deryl                         \n",
      "correct=male     guess=female   name=Dewey                         \n",
      "correct=male     guess=female   name=Dickie                        \n",
      "correct=male     guess=female   name=Doyle                         \n",
      "correct=male     guess=female   name=Duffie                        \n",
      "correct=male     guess=female   name=Dwayne                        \n",
      "correct=male     guess=female   name=Earle                         \n",
      "correct=male     guess=female   name=Edie                          \n",
      "correct=male     guess=female   name=Elijah                        \n",
      "correct=male     guess=female   name=Emmanuel                      \n",
      "correct=male     guess=female   name=Esme                          \n",
      "correct=male     guess=female   name=Fonzie                        \n",
      "correct=male     guess=female   name=Frederich                     \n",
      "correct=male     guess=female   name=Garvey                        \n",
      "correct=male     guess=female   name=Gerome                        \n",
      "correct=male     guess=female   name=Gerri                         \n",
      "correct=male     guess=female   name=Giffie                        \n",
      "correct=male     guess=female   name=Gil                           \n",
      "correct=male     guess=female   name=Gill                          \n",
      "correct=male     guess=female   name=Godfrey                       \n",
      "correct=male     guess=female   name=Guthrie                       \n",
      "correct=male     guess=female   name=Hale                          \n",
      "correct=male     guess=female   name=Haley                         \n",
      "correct=male     guess=female   name=Hamish                        \n",
      "correct=male     guess=female   name=Hansel                        \n",
      "correct=male     guess=female   name=Haskell                       \n",
      "correct=male     guess=female   name=Henrique                      \n",
      "correct=male     guess=female   name=Herbie                        \n",
      "correct=male     guess=female   name=Hercule                       \n",
      "correct=male     guess=female   name=Hermy                         \n",
      "correct=male     guess=female   name=Hersch                        \n",
      "correct=male     guess=female   name=Hersh                         \n",
      "correct=male     guess=female   name=Hezekiah                      \n",
      "correct=male     guess=female   name=Iggie                         \n",
      "correct=male     guess=female   name=Ikey                          \n",
      "correct=male     guess=female   name=Isaiah                        \n",
      "correct=male     guess=female   name=Ismail                        \n",
      "correct=male     guess=female   name=Jackie                        \n",
      "correct=male     guess=female   name=Jeffry                        \n",
      "correct=male     guess=female   name=Jeremie                       \n",
      "correct=male     guess=female   name=Jesse                         \n",
      "correct=male     guess=female   name=Jeth                          \n",
      "correct=male     guess=female   name=Jodie                         \n",
      "correct=male     guess=female   name=Jody                          \n",
      "correct=male     guess=female   name=Joe                           \n",
      "correct=male     guess=female   name=Johnnie                       \n",
      "correct=male     guess=female   name=Johny                         \n",
      "correct=male     guess=female   name=Kalle                         \n",
      "correct=male     guess=female   name=Keene                         \n",
      "correct=male     guess=female   name=Kendall                       \n",
      "correct=male     guess=female   name=Kerry                         \n",
      "correct=male     guess=female   name=Klee                          \n",
      "correct=male     guess=female   name=Leigh                         \n",
      "correct=male     guess=female   name=Leroy                         \n",
      "correct=male     guess=female   name=Lindsey                       \n",
      "correct=male     guess=female   name=Luce                          \n",
      "correct=male     guess=female   name=Maurise                       \n",
      "correct=male     guess=female   name=Mel                           \n",
      "correct=male     guess=female   name=Merrill                       \n",
      "correct=male     guess=female   name=Montague                      \n",
      "correct=male     guess=female   name=Murray                        \n",
      "correct=male     guess=female   name=Neddie                        \n",
      "correct=male     guess=female   name=Neel                          \n",
      "correct=male     guess=female   name=Neil                          \n",
      "correct=male     guess=female   name=Neville                       \n",
      "correct=male     guess=female   name=Nikolai                       \n",
      "correct=male     guess=female   name=Noah                          \n",
      "correct=male     guess=female   name=Orville                       \n",
      "correct=male     guess=female   name=Oswell                        \n",
      "correct=male     guess=female   name=Parsifal                      \n",
      "correct=male     guess=female   name=Paul                          \n",
      "correct=male     guess=female   name=Perry                         \n",
      "correct=male     guess=female   name=Piggy                         \n",
      "correct=male     guess=female   name=Pooh                          \n",
      "correct=male     guess=female   name=Randolph                      \n",
      "correct=male     guess=female   name=Rawley                        \n",
      "correct=male     guess=female   name=Rice                          \n",
      "correct=male     guess=female   name=Rich                          \n",
      "correct=male     guess=female   name=Ricki                         \n",
      "correct=male     guess=female   name=Rickie                        \n",
      "correct=male     guess=female   name=Ritch                         \n",
      "correct=male     guess=female   name=Ritchie                       \n",
      "correct=male     guess=female   name=Roarke                        \n",
      "correct=male     guess=female   name=Rodney                        \n",
      "correct=male     guess=female   name=Roni                          \n",
      "correct=male     guess=female   name=Roscoe                        \n",
      "correct=male     guess=female   name=Royce                         \n",
      "correct=male     guess=female   name=Rustie                        \n",
      "correct=male     guess=female   name=Samuele                       \n",
      "correct=male     guess=female   name=Saul                          \n",
      "correct=male     guess=female   name=Saxe                          \n",
      "correct=male     guess=female   name=Shane                         \n",
      "correct=male     guess=female   name=Sibyl                         \n",
      "correct=male     guess=female   name=Sinclare                      \n",
      "correct=male     guess=female   name=Sloane                        \n",
      "correct=male     guess=female   name=Smith                         \n",
      "correct=male     guess=female   name=Sully                         \n",
      "correct=male     guess=female   name=Tarrance                      \n",
      "correct=male     guess=female   name=Timmie                        \n",
      "correct=male     guess=female   name=Timmy                         \n",
      "correct=male     guess=female   name=Torre                         \n",
      "correct=male     guess=female   name=Torrey                        \n",
      "correct=male     guess=female   name=Towney                        \n",
      "correct=male     guess=female   name=Uriah                         \n",
      "correct=male     guess=female   name=Vachel                        \n",
      "correct=male     guess=female   name=Vail                          \n",
      "correct=male     guess=female   name=Val                           \n",
      "correct=male     guess=female   name=Vergil                        \n",
      "correct=male     guess=female   name=Verne                         \n",
      "correct=male     guess=female   name=Voltaire                      \n",
      "correct=male     guess=female   name=Wallace                       \n",
      "correct=male     guess=female   name=Wendel                        \n",
      "correct=male     guess=female   name=Weslie                        \n",
      "correct=male     guess=female   name=Willie                        \n",
      "correct=male     guess=female   name=Wolfy                         \n",
      "correct=male     guess=female   name=Yancey                        \n",
      "correct=male     guess=female   name=Zechariah                     \n"
     ]
    }
   ],
   "source": [
    "for (tag, guess, name) in sorted(errors):\n",
    "    print('correct={:<8} guess={:<8} name={:<30}'.format(tag, guess, name))"
   ]
  },
  {
   "cell_type": "markdown",
   "metadata": {},
   "source": [
    "#### Looking through this list of errors makes it clear that some suffixes that are more than one letter can be indicative of name genders. For example, names ending in yn appear to be predominantly female, despite the fact that names ending in n tend to be male; and names ending in ch are usually male, even though names that end in h tend to be female. We therefore adjust our feature extractor to include features for two-letter suffixes:"
   ]
  },
  {
   "cell_type": "code",
   "execution_count": 50,
   "metadata": {},
   "outputs": [],
   "source": [
    "def gender_features(word):\n",
    "    return {'suffix1': word[-1:],\n",
    "            'suffix2': word[-2:]}"
   ]
  },
  {
   "cell_type": "markdown",
   "metadata": {},
   "source": [
    "#### Rebuilding the classifier with the new feature extractor, we see that the performance on the dev-test dataset."
   ]
  },
  {
   "cell_type": "code",
   "execution_count": 51,
   "metadata": {},
   "outputs": [],
   "source": [
    "train_set = [(gender_features(n), gender) for (n, gender) in train_names]"
   ]
  },
  {
   "cell_type": "code",
   "execution_count": 52,
   "metadata": {},
   "outputs": [],
   "source": [
    "devtest_set = [(gender_features(n), gender) for (n, gender) in devtest_names]"
   ]
  },
  {
   "cell_type": "code",
   "execution_count": 53,
   "metadata": {},
   "outputs": [],
   "source": [
    "classifier = nltk.NaiveBayesClassifier.train(train_set)"
   ]
  },
  {
   "cell_type": "code",
   "execution_count": 54,
   "metadata": {},
   "outputs": [
    {
     "name": "stdout",
     "output_type": "stream",
     "text": [
      "0.784\n"
     ]
    }
   ],
   "source": [
    "print(nltk.classify.accuracy(classifier, devtest_set))"
   ]
  },
  {
   "cell_type": "markdown",
   "metadata": {},
   "source": [
    "### 1.3   Document Classification"
   ]
  },
  {
   "cell_type": "markdown",
   "metadata": {},
   "source": [
    "#### In Chapter 1, we saw several examples of corpora where documents have been labeled with categories. Using these corpora, we can build classifiers that will automatically tag new documents with appropriate category labels. First, we construct a list of documents, labeled with the appropriate categories. For this example, we've chosen the Movie Reviews Corpus, which categorizes each review as positive or negative."
   ]
  },
  {
   "cell_type": "code",
   "execution_count": 55,
   "metadata": {},
   "outputs": [],
   "source": [
    "from nltk.corpus import movie_reviews"
   ]
  },
  {
   "cell_type": "code",
   "execution_count": 56,
   "metadata": {},
   "outputs": [],
   "source": [
    "documents = [(list(movie_reviews.words(fileid)), category)\n",
    "            for category in movie_reviews.categories()\n",
    "            for fileid in movie_reviews.fileids(category)]"
   ]
  },
  {
   "cell_type": "code",
   "execution_count": 57,
   "metadata": {},
   "outputs": [
    {
     "data": {
      "text/plain": [
       "(['it',\n",
       "  'is',\n",
       "  'movies',\n",
       "  'like',\n",
       "  'these',\n",
       "  'that',\n",
       "  'make',\n",
       "  'a',\n",
       "  'jaded',\n",
       "  'movie',\n",
       "  'viewer',\n",
       "  'thankful',\n",
       "  'for',\n",
       "  'the',\n",
       "  'invention',\n",
       "  'of',\n",
       "  'the',\n",
       "  'timex',\n",
       "  'indiglo',\n",
       "  'watch',\n",
       "  '.',\n",
       "  'based',\n",
       "  'on',\n",
       "  'the',\n",
       "  'late',\n",
       "  '1960',\n",
       "  \"'\",\n",
       "  's',\n",
       "  'television',\n",
       "  'show',\n",
       "  'by',\n",
       "  'the',\n",
       "  'same',\n",
       "  'name',\n",
       "  ',',\n",
       "  'the',\n",
       "  'mod',\n",
       "  'squad',\n",
       "  'tells',\n",
       "  'the',\n",
       "  'tale',\n",
       "  'of',\n",
       "  'three',\n",
       "  'reformed',\n",
       "  'criminals',\n",
       "  'under',\n",
       "  'the',\n",
       "  'employ',\n",
       "  'of',\n",
       "  'the',\n",
       "  'police',\n",
       "  'to',\n",
       "  'go',\n",
       "  'undercover',\n",
       "  '.',\n",
       "  'however',\n",
       "  ',',\n",
       "  'things',\n",
       "  'go',\n",
       "  'wrong',\n",
       "  'as',\n",
       "  'evidence',\n",
       "  'gets',\n",
       "  'stolen',\n",
       "  'and',\n",
       "  'they',\n",
       "  'are',\n",
       "  'immediately',\n",
       "  'under',\n",
       "  'suspicion',\n",
       "  '.',\n",
       "  'of',\n",
       "  'course',\n",
       "  ',',\n",
       "  'the',\n",
       "  'ads',\n",
       "  'make',\n",
       "  'it',\n",
       "  'seem',\n",
       "  'like',\n",
       "  'so',\n",
       "  'much',\n",
       "  'more',\n",
       "  '.',\n",
       "  'quick',\n",
       "  'cuts',\n",
       "  ',',\n",
       "  'cool',\n",
       "  'music',\n",
       "  ',',\n",
       "  'claire',\n",
       "  'dane',\n",
       "  \"'\",\n",
       "  's',\n",
       "  'nice',\n",
       "  'hair',\n",
       "  'and',\n",
       "  'cute',\n",
       "  'outfits',\n",
       "  ',',\n",
       "  'car',\n",
       "  'chases',\n",
       "  ',',\n",
       "  'stuff',\n",
       "  'blowing',\n",
       "  'up',\n",
       "  ',',\n",
       "  'and',\n",
       "  'the',\n",
       "  'like',\n",
       "  '.',\n",
       "  'sounds',\n",
       "  'like',\n",
       "  'a',\n",
       "  'cool',\n",
       "  'movie',\n",
       "  ',',\n",
       "  'does',\n",
       "  'it',\n",
       "  'not',\n",
       "  '?',\n",
       "  'after',\n",
       "  'the',\n",
       "  'first',\n",
       "  'fifteen',\n",
       "  'minutes',\n",
       "  ',',\n",
       "  'it',\n",
       "  'quickly',\n",
       "  'becomes',\n",
       "  'apparent',\n",
       "  'that',\n",
       "  'it',\n",
       "  'is',\n",
       "  'not',\n",
       "  '.',\n",
       "  'the',\n",
       "  'mod',\n",
       "  'squad',\n",
       "  'is',\n",
       "  'certainly',\n",
       "  'a',\n",
       "  'slick',\n",
       "  'looking',\n",
       "  'production',\n",
       "  ',',\n",
       "  'complete',\n",
       "  'with',\n",
       "  'nice',\n",
       "  'hair',\n",
       "  'and',\n",
       "  'costumes',\n",
       "  ',',\n",
       "  'but',\n",
       "  'that',\n",
       "  'simply',\n",
       "  'isn',\n",
       "  \"'\",\n",
       "  't',\n",
       "  'enough',\n",
       "  '.',\n",
       "  'the',\n",
       "  'film',\n",
       "  'is',\n",
       "  'best',\n",
       "  'described',\n",
       "  'as',\n",
       "  'a',\n",
       "  'cross',\n",
       "  'between',\n",
       "  'an',\n",
       "  'hour',\n",
       "  '-',\n",
       "  'long',\n",
       "  'cop',\n",
       "  'show',\n",
       "  'and',\n",
       "  'a',\n",
       "  'music',\n",
       "  'video',\n",
       "  ',',\n",
       "  'both',\n",
       "  'stretched',\n",
       "  'out',\n",
       "  'into',\n",
       "  'the',\n",
       "  'span',\n",
       "  'of',\n",
       "  'an',\n",
       "  'hour',\n",
       "  'and',\n",
       "  'a',\n",
       "  'half',\n",
       "  '.',\n",
       "  'and',\n",
       "  'with',\n",
       "  'it',\n",
       "  'comes',\n",
       "  'every',\n",
       "  'single',\n",
       "  'clich',\n",
       "  '?',\n",
       "  '.',\n",
       "  'it',\n",
       "  'doesn',\n",
       "  \"'\",\n",
       "  't',\n",
       "  'really',\n",
       "  'matter',\n",
       "  'that',\n",
       "  'the',\n",
       "  'film',\n",
       "  'is',\n",
       "  'based',\n",
       "  'on',\n",
       "  'a',\n",
       "  'television',\n",
       "  'show',\n",
       "  ',',\n",
       "  'as',\n",
       "  'most',\n",
       "  'of',\n",
       "  'the',\n",
       "  'plot',\n",
       "  'elements',\n",
       "  'have',\n",
       "  'been',\n",
       "  'recycled',\n",
       "  'from',\n",
       "  'everything',\n",
       "  'we',\n",
       "  \"'\",\n",
       "  've',\n",
       "  'already',\n",
       "  'seen',\n",
       "  '.',\n",
       "  'the',\n",
       "  'characters',\n",
       "  'and',\n",
       "  'acting',\n",
       "  'is',\n",
       "  'nothing',\n",
       "  'spectacular',\n",
       "  ',',\n",
       "  'sometimes',\n",
       "  'even',\n",
       "  'bordering',\n",
       "  'on',\n",
       "  'wooden',\n",
       "  '.',\n",
       "  'claire',\n",
       "  'danes',\n",
       "  'and',\n",
       "  'omar',\n",
       "  'epps',\n",
       "  'deliver',\n",
       "  'their',\n",
       "  'lines',\n",
       "  'as',\n",
       "  'if',\n",
       "  'they',\n",
       "  'are',\n",
       "  'bored',\n",
       "  ',',\n",
       "  'which',\n",
       "  'really',\n",
       "  'transfers',\n",
       "  'onto',\n",
       "  'the',\n",
       "  'audience',\n",
       "  '.',\n",
       "  'the',\n",
       "  'only',\n",
       "  'one',\n",
       "  'to',\n",
       "  'escape',\n",
       "  'relatively',\n",
       "  'unscathed',\n",
       "  'is',\n",
       "  'giovanni',\n",
       "  'ribisi',\n",
       "  ',',\n",
       "  'who',\n",
       "  'plays',\n",
       "  'the',\n",
       "  'resident',\n",
       "  'crazy',\n",
       "  'man',\n",
       "  ',',\n",
       "  'ultimately',\n",
       "  'being',\n",
       "  'the',\n",
       "  'only',\n",
       "  'thing',\n",
       "  'worth',\n",
       "  'watching',\n",
       "  '.',\n",
       "  'unfortunately',\n",
       "  ',',\n",
       "  'even',\n",
       "  'he',\n",
       "  \"'\",\n",
       "  's',\n",
       "  'not',\n",
       "  'enough',\n",
       "  'to',\n",
       "  'save',\n",
       "  'this',\n",
       "  'convoluted',\n",
       "  'mess',\n",
       "  ',',\n",
       "  'as',\n",
       "  'all',\n",
       "  'the',\n",
       "  'characters',\n",
       "  'don',\n",
       "  \"'\",\n",
       "  't',\n",
       "  'do',\n",
       "  'much',\n",
       "  'apart',\n",
       "  'from',\n",
       "  'occupying',\n",
       "  'screen',\n",
       "  'time',\n",
       "  '.',\n",
       "  'with',\n",
       "  'the',\n",
       "  'young',\n",
       "  'cast',\n",
       "  ',',\n",
       "  'cool',\n",
       "  'clothes',\n",
       "  ',',\n",
       "  'nice',\n",
       "  'hair',\n",
       "  ',',\n",
       "  'and',\n",
       "  'hip',\n",
       "  'soundtrack',\n",
       "  ',',\n",
       "  'it',\n",
       "  'appears',\n",
       "  'that',\n",
       "  'the',\n",
       "  'film',\n",
       "  'is',\n",
       "  'geared',\n",
       "  'towards',\n",
       "  'the',\n",
       "  'teenage',\n",
       "  'mindset',\n",
       "  '.',\n",
       "  'despite',\n",
       "  'an',\n",
       "  'american',\n",
       "  \"'\",\n",
       "  'r',\n",
       "  \"'\",\n",
       "  'rating',\n",
       "  '(',\n",
       "  'which',\n",
       "  'the',\n",
       "  'content',\n",
       "  'does',\n",
       "  'not',\n",
       "  'justify',\n",
       "  ')',\n",
       "  ',',\n",
       "  'the',\n",
       "  'film',\n",
       "  'is',\n",
       "  'way',\n",
       "  'too',\n",
       "  'juvenile',\n",
       "  'for',\n",
       "  'the',\n",
       "  'older',\n",
       "  'mindset',\n",
       "  '.',\n",
       "  'information',\n",
       "  'on',\n",
       "  'the',\n",
       "  'characters',\n",
       "  'is',\n",
       "  'literally',\n",
       "  'spoon',\n",
       "  '-',\n",
       "  'fed',\n",
       "  'to',\n",
       "  'the',\n",
       "  'audience',\n",
       "  '(',\n",
       "  'would',\n",
       "  'it',\n",
       "  'be',\n",
       "  'that',\n",
       "  'hard',\n",
       "  'to',\n",
       "  'show',\n",
       "  'us',\n",
       "  'instead',\n",
       "  'of',\n",
       "  'telling',\n",
       "  'us',\n",
       "  '?',\n",
       "  ')',\n",
       "  ',',\n",
       "  'dialogue',\n",
       "  'is',\n",
       "  'poorly',\n",
       "  'written',\n",
       "  ',',\n",
       "  'and',\n",
       "  'the',\n",
       "  'plot',\n",
       "  'is',\n",
       "  'extremely',\n",
       "  'predictable',\n",
       "  '.',\n",
       "  'the',\n",
       "  'way',\n",
       "  'the',\n",
       "  'film',\n",
       "  'progresses',\n",
       "  ',',\n",
       "  'you',\n",
       "  'likely',\n",
       "  'won',\n",
       "  \"'\",\n",
       "  't',\n",
       "  'even',\n",
       "  'care',\n",
       "  'if',\n",
       "  'the',\n",
       "  'heroes',\n",
       "  'are',\n",
       "  'in',\n",
       "  'any',\n",
       "  'jeopardy',\n",
       "  ',',\n",
       "  'because',\n",
       "  'you',\n",
       "  \"'\",\n",
       "  'll',\n",
       "  'know',\n",
       "  'they',\n",
       "  'aren',\n",
       "  \"'\",\n",
       "  't',\n",
       "  '.',\n",
       "  'basing',\n",
       "  'the',\n",
       "  'show',\n",
       "  'on',\n",
       "  'a',\n",
       "  '1960',\n",
       "  \"'\",\n",
       "  's',\n",
       "  'television',\n",
       "  'show',\n",
       "  'that',\n",
       "  'nobody',\n",
       "  'remembers',\n",
       "  'is',\n",
       "  'of',\n",
       "  'questionable',\n",
       "  'wisdom',\n",
       "  ',',\n",
       "  'especially',\n",
       "  'when',\n",
       "  'one',\n",
       "  'considers',\n",
       "  'the',\n",
       "  'target',\n",
       "  'audience',\n",
       "  'and',\n",
       "  'the',\n",
       "  'fact',\n",
       "  'that',\n",
       "  'the',\n",
       "  'number',\n",
       "  'of',\n",
       "  'memorable',\n",
       "  'films',\n",
       "  'based',\n",
       "  'on',\n",
       "  'television',\n",
       "  'shows',\n",
       "  'can',\n",
       "  'be',\n",
       "  'counted',\n",
       "  'on',\n",
       "  'one',\n",
       "  'hand',\n",
       "  '(',\n",
       "  'even',\n",
       "  'one',\n",
       "  'that',\n",
       "  \"'\",\n",
       "  's',\n",
       "  'missing',\n",
       "  'a',\n",
       "  'finger',\n",
       "  'or',\n",
       "  'two',\n",
       "  ')',\n",
       "  '.',\n",
       "  'the',\n",
       "  'number',\n",
       "  'of',\n",
       "  'times',\n",
       "  'that',\n",
       "  'i',\n",
       "  'checked',\n",
       "  'my',\n",
       "  'watch',\n",
       "  '(',\n",
       "  'six',\n",
       "  ')',\n",
       "  'is',\n",
       "  'a',\n",
       "  'clear',\n",
       "  'indication',\n",
       "  'that',\n",
       "  'this',\n",
       "  'film',\n",
       "  'is',\n",
       "  'not',\n",
       "  'one',\n",
       "  'of',\n",
       "  'them',\n",
       "  '.',\n",
       "  'it',\n",
       "  'is',\n",
       "  'clear',\n",
       "  'that',\n",
       "  'the',\n",
       "  'film',\n",
       "  'is',\n",
       "  'nothing',\n",
       "  'more',\n",
       "  'than',\n",
       "  'an',\n",
       "  'attempt',\n",
       "  'to',\n",
       "  'cash',\n",
       "  'in',\n",
       "  'on',\n",
       "  'the',\n",
       "  'teenage',\n",
       "  'spending',\n",
       "  'dollar',\n",
       "  ',',\n",
       "  'judging',\n",
       "  'from',\n",
       "  'the',\n",
       "  'rash',\n",
       "  'of',\n",
       "  'really',\n",
       "  'awful',\n",
       "  'teen',\n",
       "  '-',\n",
       "  'flicks',\n",
       "  'that',\n",
       "  'we',\n",
       "  \"'\",\n",
       "  've',\n",
       "  'been',\n",
       "  'seeing',\n",
       "  'as',\n",
       "  'of',\n",
       "  'late',\n",
       "  '.',\n",
       "  'avoid',\n",
       "  'this',\n",
       "  'film',\n",
       "  'at',\n",
       "  'all',\n",
       "  'costs',\n",
       "  '.'],\n",
       " 'neg')"
      ]
     },
     "execution_count": 57,
     "metadata": {},
     "output_type": "execute_result"
    }
   ],
   "source": [
    "documents[2]"
   ]
  },
  {
   "cell_type": "code",
   "execution_count": 58,
   "metadata": {},
   "outputs": [],
   "source": [
    "random.seed(2)"
   ]
  },
  {
   "cell_type": "code",
   "execution_count": 59,
   "metadata": {},
   "outputs": [],
   "source": [
    "random.shuffle(documents)"
   ]
  },
  {
   "cell_type": "markdown",
   "metadata": {},
   "source": [
    "#### Next, we define a feature extractor for documents, so the classifier will know which aspects of the data it should pay attention to . For document topic identification, we can define a feature for each word, indicating whether the document contains that word. To limit the number of features that the classifier needs to process, we begin by constructing a list of the 2000 most frequent words in the overall corpus [1]. We can then define a feature extractor [2] that simply checks whether each of these words is present in a given document."
   ]
  },
  {
   "cell_type": "code",
   "execution_count": 60,
   "metadata": {},
   "outputs": [],
   "source": [
    "all_words = nltk.FreqDist(w.lower() for w in movie_reviews.words())"
   ]
  },
  {
   "cell_type": "code",
   "execution_count": 61,
   "metadata": {},
   "outputs": [],
   "source": [
    "word_features = list(all_words)[:2000] #1"
   ]
  },
  {
   "cell_type": "code",
   "execution_count": 62,
   "metadata": {},
   "outputs": [
    {
     "data": {
      "text/plain": [
       "['plot',\n",
       " ':',\n",
       " 'two',\n",
       " 'teen',\n",
       " 'couples',\n",
       " 'go',\n",
       " 'to',\n",
       " 'a',\n",
       " 'church',\n",
       " 'party',\n",
       " ',',\n",
       " 'drink',\n",
       " 'and',\n",
       " 'then',\n",
       " 'drive',\n",
       " '.',\n",
       " 'they',\n",
       " 'get',\n",
       " 'into',\n",
       " 'an',\n",
       " 'accident',\n",
       " 'one',\n",
       " 'of',\n",
       " 'the',\n",
       " 'guys',\n",
       " 'dies',\n",
       " 'but',\n",
       " 'his',\n",
       " 'girlfriend',\n",
       " 'continues',\n",
       " 'see',\n",
       " 'him',\n",
       " 'in',\n",
       " 'her',\n",
       " 'life',\n",
       " 'has',\n",
       " 'nightmares',\n",
       " 'what',\n",
       " \"'\",\n",
       " 's',\n",
       " 'deal',\n",
       " '?',\n",
       " 'watch',\n",
       " 'movie',\n",
       " '\"',\n",
       " 'sorta',\n",
       " 'find',\n",
       " 'out',\n",
       " 'critique',\n",
       " 'mind',\n",
       " '-',\n",
       " 'fuck',\n",
       " 'for',\n",
       " 'generation',\n",
       " 'that',\n",
       " 'touches',\n",
       " 'on',\n",
       " 'very',\n",
       " 'cool',\n",
       " 'idea',\n",
       " 'presents',\n",
       " 'it',\n",
       " 'bad',\n",
       " 'package',\n",
       " 'which',\n",
       " 'is',\n",
       " 'makes',\n",
       " 'this',\n",
       " 'review',\n",
       " 'even',\n",
       " 'harder',\n",
       " 'write',\n",
       " 'since',\n",
       " 'i',\n",
       " 'generally',\n",
       " 'applaud',\n",
       " 'films',\n",
       " 'attempt',\n",
       " 'break',\n",
       " 'mold',\n",
       " 'mess',\n",
       " 'with',\n",
       " 'your',\n",
       " 'head',\n",
       " 'such',\n",
       " '(',\n",
       " 'lost',\n",
       " 'highway',\n",
       " '&',\n",
       " 'memento',\n",
       " ')',\n",
       " 'there',\n",
       " 'are',\n",
       " 'good',\n",
       " 'ways',\n",
       " 'making',\n",
       " 'all',\n",
       " 'types',\n",
       " 'these',\n",
       " 'folks',\n",
       " 'just',\n",
       " 'didn',\n",
       " 't',\n",
       " 'snag',\n",
       " 'correctly',\n",
       " 'seem',\n",
       " 'have',\n",
       " 'taken',\n",
       " 'pretty',\n",
       " 'neat',\n",
       " 'concept',\n",
       " 'executed',\n",
       " 'terribly',\n",
       " 'so',\n",
       " 'problems',\n",
       " 'well',\n",
       " 'its',\n",
       " 'main',\n",
       " 'problem',\n",
       " 'simply',\n",
       " 'too',\n",
       " 'jumbled',\n",
       " 'starts',\n",
       " 'off',\n",
       " 'normal',\n",
       " 'downshifts',\n",
       " 'fantasy',\n",
       " 'world',\n",
       " 'you',\n",
       " 'as',\n",
       " 'audience',\n",
       " 'member',\n",
       " 'no',\n",
       " 'going',\n",
       " 'dreams',\n",
       " 'characters',\n",
       " 'coming',\n",
       " 'back',\n",
       " 'from',\n",
       " 'dead',\n",
       " 'others',\n",
       " 'who',\n",
       " 'look',\n",
       " 'like',\n",
       " 'strange',\n",
       " 'apparitions',\n",
       " 'disappearances',\n",
       " 'looooot',\n",
       " 'chase',\n",
       " 'scenes',\n",
       " 'tons',\n",
       " 'weird',\n",
       " 'things',\n",
       " 'happen',\n",
       " 'most',\n",
       " 'not',\n",
       " 'explained',\n",
       " 'now',\n",
       " 'personally',\n",
       " 'don',\n",
       " 'trying',\n",
       " 'unravel',\n",
       " 'film',\n",
       " 'every',\n",
       " 'when',\n",
       " 'does',\n",
       " 'give',\n",
       " 'me',\n",
       " 'same',\n",
       " 'clue',\n",
       " 'over',\n",
       " 'again',\n",
       " 'kind',\n",
       " 'fed',\n",
       " 'up',\n",
       " 'after',\n",
       " 'while',\n",
       " 'biggest',\n",
       " 'obviously',\n",
       " 'got',\n",
       " 'big',\n",
       " 'secret',\n",
       " 'hide',\n",
       " 'seems',\n",
       " 'want',\n",
       " 'completely',\n",
       " 'until',\n",
       " 'final',\n",
       " 'five',\n",
       " 'minutes',\n",
       " 'do',\n",
       " 'make',\n",
       " 'entertaining',\n",
       " 'thrilling',\n",
       " 'or',\n",
       " 'engaging',\n",
       " 'meantime',\n",
       " 'really',\n",
       " 'sad',\n",
       " 'part',\n",
       " 'arrow',\n",
       " 'both',\n",
       " 'dig',\n",
       " 'flicks',\n",
       " 'we',\n",
       " 'actually',\n",
       " 'figured',\n",
       " 'by',\n",
       " 'half',\n",
       " 'way',\n",
       " 'point',\n",
       " 'strangeness',\n",
       " 'did',\n",
       " 'start',\n",
       " 'little',\n",
       " 'bit',\n",
       " 'sense',\n",
       " 'still',\n",
       " 'more',\n",
       " 'guess',\n",
       " 'bottom',\n",
       " 'line',\n",
       " 'movies',\n",
       " 'should',\n",
       " 'always',\n",
       " 'sure',\n",
       " 'before',\n",
       " 'given',\n",
       " 'password',\n",
       " 'enter',\n",
       " 'understanding',\n",
       " 'mean',\n",
       " 'showing',\n",
       " 'melissa',\n",
       " 'sagemiller',\n",
       " 'running',\n",
       " 'away',\n",
       " 'visions',\n",
       " 'about',\n",
       " '20',\n",
       " 'throughout',\n",
       " 'plain',\n",
       " 'lazy',\n",
       " '!',\n",
       " 'okay',\n",
       " 'people',\n",
       " 'chasing',\n",
       " 'know',\n",
       " 'need',\n",
       " 'how',\n",
       " 'giving',\n",
       " 'us',\n",
       " 'different',\n",
       " 'offering',\n",
       " 'further',\n",
       " 'insight',\n",
       " 'down',\n",
       " 'apparently',\n",
       " 'studio',\n",
       " 'took',\n",
       " 'director',\n",
       " 'chopped',\n",
       " 'themselves',\n",
       " 'shows',\n",
       " 'might',\n",
       " 've',\n",
       " 'been',\n",
       " 'decent',\n",
       " 'here',\n",
       " 'somewhere',\n",
       " 'suits',\n",
       " 'decided',\n",
       " 'turning',\n",
       " 'music',\n",
       " 'video',\n",
       " 'edge',\n",
       " 'would',\n",
       " 'actors',\n",
       " 'although',\n",
       " 'wes',\n",
       " 'bentley',\n",
       " 'seemed',\n",
       " 'be',\n",
       " 'playing',\n",
       " 'exact',\n",
       " 'character',\n",
       " 'he',\n",
       " 'american',\n",
       " 'beauty',\n",
       " 'only',\n",
       " 'new',\n",
       " 'neighborhood',\n",
       " 'my',\n",
       " 'kudos',\n",
       " 'holds',\n",
       " 'own',\n",
       " 'entire',\n",
       " 'feeling',\n",
       " 'unraveling',\n",
       " 'overall',\n",
       " 'doesn',\n",
       " 'stick',\n",
       " 'because',\n",
       " 'entertain',\n",
       " 'confusing',\n",
       " 'rarely',\n",
       " 'excites',\n",
       " 'feels',\n",
       " 'redundant',\n",
       " 'runtime',\n",
       " 'despite',\n",
       " 'ending',\n",
       " 'explanation',\n",
       " 'craziness',\n",
       " 'came',\n",
       " 'oh',\n",
       " 'horror',\n",
       " 'slasher',\n",
       " 'flick',\n",
       " 'packaged',\n",
       " 'someone',\n",
       " 'assuming',\n",
       " 'genre',\n",
       " 'hot',\n",
       " 'kids',\n",
       " 'also',\n",
       " 'wrapped',\n",
       " 'production',\n",
       " 'years',\n",
       " 'ago',\n",
       " 'sitting',\n",
       " 'shelves',\n",
       " 'ever',\n",
       " 'whatever',\n",
       " 'skip',\n",
       " 'where',\n",
       " 'joblo',\n",
       " 'nightmare',\n",
       " 'elm',\n",
       " 'street',\n",
       " '3',\n",
       " '7',\n",
       " '/',\n",
       " '10',\n",
       " 'blair',\n",
       " 'witch',\n",
       " '2',\n",
       " 'crow',\n",
       " '9',\n",
       " 'salvation',\n",
       " '4',\n",
       " 'stir',\n",
       " 'echoes',\n",
       " '8',\n",
       " 'happy',\n",
       " 'bastard',\n",
       " 'quick',\n",
       " 'damn',\n",
       " 'y2k',\n",
       " 'bug',\n",
       " 'starring',\n",
       " 'jamie',\n",
       " 'lee',\n",
       " 'curtis',\n",
       " 'another',\n",
       " 'baldwin',\n",
       " 'brother',\n",
       " 'william',\n",
       " 'time',\n",
       " 'story',\n",
       " 'regarding',\n",
       " 'crew',\n",
       " 'tugboat',\n",
       " 'comes',\n",
       " 'across',\n",
       " 'deserted',\n",
       " 'russian',\n",
       " 'tech',\n",
       " 'ship',\n",
       " 'kick',\n",
       " 'power',\n",
       " 'within',\n",
       " 'gore',\n",
       " 'bringing',\n",
       " 'few',\n",
       " 'action',\n",
       " 'sequences',\n",
       " 'virus',\n",
       " 'empty',\n",
       " 'flash',\n",
       " 'substance',\n",
       " 'why',\n",
       " 'was',\n",
       " 'middle',\n",
       " 'nowhere',\n",
       " 'origin',\n",
       " 'pink',\n",
       " 'flashy',\n",
       " 'thing',\n",
       " 'hit',\n",
       " 'mir',\n",
       " 'course',\n",
       " 'donald',\n",
       " 'sutherland',\n",
       " 'stumbling',\n",
       " 'around',\n",
       " 'drunkenly',\n",
       " 'hey',\n",
       " 'let',\n",
       " 'some',\n",
       " 'robots',\n",
       " 'acting',\n",
       " 'below',\n",
       " 'average',\n",
       " 'likes',\n",
       " 're',\n",
       " 'likely',\n",
       " 'work',\n",
       " 'halloween',\n",
       " 'h20',\n",
       " 'wasted',\n",
       " 'real',\n",
       " 'star',\n",
       " 'stan',\n",
       " 'winston',\n",
       " 'robot',\n",
       " 'design',\n",
       " 'schnazzy',\n",
       " 'cgi',\n",
       " 'occasional',\n",
       " 'shot',\n",
       " 'picking',\n",
       " 'brain',\n",
       " 'if',\n",
       " 'body',\n",
       " 'parts',\n",
       " 'turn',\n",
       " 'otherwise',\n",
       " 'much',\n",
       " 'sunken',\n",
       " 'jaded',\n",
       " 'viewer',\n",
       " 'thankful',\n",
       " 'invention',\n",
       " 'timex',\n",
       " 'indiglo',\n",
       " 'based',\n",
       " 'late',\n",
       " '1960',\n",
       " 'television',\n",
       " 'show',\n",
       " 'name',\n",
       " 'mod',\n",
       " 'squad',\n",
       " 'tells',\n",
       " 'tale',\n",
       " 'three',\n",
       " 'reformed',\n",
       " 'criminals',\n",
       " 'under',\n",
       " 'employ',\n",
       " 'police',\n",
       " 'undercover',\n",
       " 'however',\n",
       " 'wrong',\n",
       " 'evidence',\n",
       " 'gets',\n",
       " 'stolen',\n",
       " 'immediately',\n",
       " 'suspicion',\n",
       " 'ads',\n",
       " 'cuts',\n",
       " 'claire',\n",
       " 'dane',\n",
       " 'nice',\n",
       " 'hair',\n",
       " 'cute',\n",
       " 'outfits',\n",
       " 'car',\n",
       " 'chases',\n",
       " 'stuff',\n",
       " 'blowing',\n",
       " 'sounds',\n",
       " 'first',\n",
       " 'fifteen',\n",
       " 'quickly',\n",
       " 'becomes',\n",
       " 'apparent',\n",
       " 'certainly',\n",
       " 'slick',\n",
       " 'looking',\n",
       " 'complete',\n",
       " 'costumes',\n",
       " 'isn',\n",
       " 'enough',\n",
       " 'best',\n",
       " 'described',\n",
       " 'cross',\n",
       " 'between',\n",
       " 'hour',\n",
       " 'long',\n",
       " 'cop',\n",
       " 'stretched',\n",
       " 'span',\n",
       " 'single',\n",
       " 'clich',\n",
       " 'matter',\n",
       " 'elements',\n",
       " 'recycled',\n",
       " 'everything',\n",
       " 'already',\n",
       " 'seen',\n",
       " 'nothing',\n",
       " 'spectacular',\n",
       " 'sometimes',\n",
       " 'bordering',\n",
       " 'wooden',\n",
       " 'danes',\n",
       " 'omar',\n",
       " 'epps',\n",
       " 'deliver',\n",
       " 'their',\n",
       " 'lines',\n",
       " 'bored',\n",
       " 'transfers',\n",
       " 'onto',\n",
       " 'escape',\n",
       " 'relatively',\n",
       " 'unscathed',\n",
       " 'giovanni',\n",
       " 'ribisi',\n",
       " 'plays',\n",
       " 'resident',\n",
       " 'crazy',\n",
       " 'man',\n",
       " 'ultimately',\n",
       " 'being',\n",
       " 'worth',\n",
       " 'watching',\n",
       " 'unfortunately',\n",
       " 'save',\n",
       " 'convoluted',\n",
       " 'apart',\n",
       " 'occupying',\n",
       " 'screen',\n",
       " 'young',\n",
       " 'cast',\n",
       " 'clothes',\n",
       " 'hip',\n",
       " 'soundtrack',\n",
       " 'appears',\n",
       " 'geared',\n",
       " 'towards',\n",
       " 'teenage',\n",
       " 'mindset',\n",
       " 'r',\n",
       " 'rating',\n",
       " 'content',\n",
       " 'justify',\n",
       " 'juvenile',\n",
       " 'older',\n",
       " 'information',\n",
       " 'literally',\n",
       " 'spoon',\n",
       " 'hard',\n",
       " 'instead',\n",
       " 'telling',\n",
       " 'dialogue',\n",
       " 'poorly',\n",
       " 'written',\n",
       " 'extremely',\n",
       " 'predictable',\n",
       " 'progresses',\n",
       " 'won',\n",
       " 'care',\n",
       " 'heroes',\n",
       " 'any',\n",
       " 'jeopardy',\n",
       " 'll',\n",
       " 'aren',\n",
       " 'basing',\n",
       " 'nobody',\n",
       " 'remembers',\n",
       " 'questionable',\n",
       " 'wisdom',\n",
       " 'especially',\n",
       " 'considers',\n",
       " 'target',\n",
       " 'fact',\n",
       " 'number',\n",
       " 'memorable',\n",
       " 'can',\n",
       " 'counted',\n",
       " 'hand',\n",
       " 'missing',\n",
       " 'finger',\n",
       " 'times',\n",
       " 'checked',\n",
       " 'six',\n",
       " 'clear',\n",
       " 'indication',\n",
       " 'them',\n",
       " 'than',\n",
       " 'cash',\n",
       " 'spending',\n",
       " 'dollar',\n",
       " 'judging',\n",
       " 'rash',\n",
       " 'awful',\n",
       " 'seeing',\n",
       " 'avoid',\n",
       " 'at',\n",
       " 'costs',\n",
       " 'quest',\n",
       " 'camelot',\n",
       " 'warner',\n",
       " 'bros',\n",
       " 'feature',\n",
       " 'length',\n",
       " 'fully',\n",
       " 'animated',\n",
       " 'steal',\n",
       " 'clout',\n",
       " 'disney',\n",
       " 'cartoon',\n",
       " 'empire',\n",
       " 'mouse',\n",
       " 'reason',\n",
       " 'worried',\n",
       " 'other',\n",
       " 'recent',\n",
       " 'challenger',\n",
       " 'throne',\n",
       " 'last',\n",
       " 'fall',\n",
       " 'promising',\n",
       " 'flawed',\n",
       " '20th',\n",
       " 'century',\n",
       " 'fox',\n",
       " 'anastasia',\n",
       " 'hercules',\n",
       " 'lively',\n",
       " 'colorful',\n",
       " 'palate',\n",
       " 'had',\n",
       " 'beat',\n",
       " 'hands',\n",
       " 'crown',\n",
       " '1997',\n",
       " 'piece',\n",
       " 'animation',\n",
       " 'year',\n",
       " 'contest',\n",
       " 'arrival',\n",
       " 'magic',\n",
       " 'kingdom',\n",
       " 'mediocre',\n",
       " '--',\n",
       " 'd',\n",
       " 'pocahontas',\n",
       " 'those',\n",
       " 'keeping',\n",
       " 'score',\n",
       " 'nearly',\n",
       " 'dull',\n",
       " 'revolves',\n",
       " 'adventures',\n",
       " 'free',\n",
       " 'spirited',\n",
       " 'kayley',\n",
       " 'voiced',\n",
       " 'jessalyn',\n",
       " 'gilsig',\n",
       " 'early',\n",
       " 'daughter',\n",
       " 'belated',\n",
       " 'knight',\n",
       " 'king',\n",
       " 'arthur',\n",
       " 'round',\n",
       " 'table',\n",
       " 'dream',\n",
       " 'follow',\n",
       " 'father',\n",
       " 'footsteps',\n",
       " 'she',\n",
       " 'chance',\n",
       " 'evil',\n",
       " 'warlord',\n",
       " 'ruber',\n",
       " 'gary',\n",
       " 'oldman',\n",
       " 'ex',\n",
       " 'gone',\n",
       " 'steals',\n",
       " 'magical',\n",
       " 'sword',\n",
       " 'excalibur',\n",
       " 'accidentally',\n",
       " 'loses',\n",
       " 'dangerous',\n",
       " 'booby',\n",
       " 'trapped',\n",
       " 'forest',\n",
       " 'help',\n",
       " 'hunky',\n",
       " 'blind',\n",
       " 'timberland',\n",
       " 'dweller',\n",
       " 'garrett',\n",
       " 'carey',\n",
       " 'elwes',\n",
       " 'headed',\n",
       " 'dragon',\n",
       " 'eric',\n",
       " 'idle',\n",
       " 'rickles',\n",
       " 'arguing',\n",
       " 'itself',\n",
       " 'able',\n",
       " 'medieval',\n",
       " 'sexist',\n",
       " 'prove',\n",
       " 'fighter',\n",
       " 'side',\n",
       " 'pure',\n",
       " 'showmanship',\n",
       " 'essential',\n",
       " 'element',\n",
       " 'expected',\n",
       " 'climb',\n",
       " 'high',\n",
       " 'ranks',\n",
       " 'differentiates',\n",
       " 'something',\n",
       " 'saturday',\n",
       " 'morning',\n",
       " 'subpar',\n",
       " 'instantly',\n",
       " 'forgettable',\n",
       " 'songs',\n",
       " 'integrated',\n",
       " 'computerized',\n",
       " 'footage',\n",
       " 'compare',\n",
       " 'run',\n",
       " 'angry',\n",
       " 'ogre',\n",
       " 'herc',\n",
       " 'battle',\n",
       " 'hydra',\n",
       " 'rest',\n",
       " 'case',\n",
       " 'stink',\n",
       " 'none',\n",
       " 'remotely',\n",
       " 'interesting',\n",
       " 'race',\n",
       " 'bland',\n",
       " 'end',\n",
       " 'tie',\n",
       " 'win',\n",
       " 'comedy',\n",
       " 'shtick',\n",
       " 'awfully',\n",
       " 'cloying',\n",
       " 'least',\n",
       " 'signs',\n",
       " 'pulse',\n",
       " 'fans',\n",
       " \"-'\",\n",
       " '90s',\n",
       " 'tgif',\n",
       " 'will',\n",
       " 'thrilled',\n",
       " 'jaleel',\n",
       " 'urkel',\n",
       " 'white',\n",
       " 'bronson',\n",
       " 'balki',\n",
       " 'pinchot',\n",
       " 'sharing',\n",
       " 'nicely',\n",
       " 'realized',\n",
       " 'though',\n",
       " 'm',\n",
       " 'loss',\n",
       " 'recall',\n",
       " 'specific',\n",
       " 'providing',\n",
       " 'voice',\n",
       " 'talent',\n",
       " 'enthusiastic',\n",
       " 'paired',\n",
       " 'singers',\n",
       " 'sound',\n",
       " 'musical',\n",
       " 'moments',\n",
       " 'jane',\n",
       " 'seymour',\n",
       " 'celine',\n",
       " 'dion',\n",
       " 'must',\n",
       " 'strain',\n",
       " 'through',\n",
       " 'aside',\n",
       " 'children',\n",
       " 'probably',\n",
       " 'adults',\n",
       " 'grievous',\n",
       " 'error',\n",
       " 'lack',\n",
       " 'personality',\n",
       " 'learn',\n",
       " 'goes',\n",
       " 'synopsis',\n",
       " 'mentally',\n",
       " 'unstable',\n",
       " 'undergoing',\n",
       " 'psychotherapy',\n",
       " 'saves',\n",
       " 'boy',\n",
       " 'potentially',\n",
       " 'fatal',\n",
       " 'falls',\n",
       " 'love',\n",
       " 'mother',\n",
       " 'fledgling',\n",
       " 'restauranteur',\n",
       " 'unsuccessfully',\n",
       " 'attempting',\n",
       " 'gain',\n",
       " 'woman',\n",
       " 'favor',\n",
       " 'takes',\n",
       " 'pictures',\n",
       " 'kills',\n",
       " 'comments',\n",
       " 'stalked',\n",
       " 'yet',\n",
       " 'seemingly',\n",
       " 'endless',\n",
       " 'string',\n",
       " 'spurned',\n",
       " 'psychos',\n",
       " 'getting',\n",
       " 'revenge',\n",
       " 'type',\n",
       " 'stable',\n",
       " 'category',\n",
       " '1990s',\n",
       " 'industry',\n",
       " 'theatrical',\n",
       " 'direct',\n",
       " 'proliferation',\n",
       " 'may',\n",
       " 'due',\n",
       " 'typically',\n",
       " 'inexpensive',\n",
       " 'produce',\n",
       " 'special',\n",
       " 'effects',\n",
       " 'stars',\n",
       " 'serve',\n",
       " 'vehicles',\n",
       " 'nudity',\n",
       " 'allowing',\n",
       " 'frequent',\n",
       " 'night',\n",
       " 'cable',\n",
       " 'wavers',\n",
       " 'slightly',\n",
       " 'norm',\n",
       " 'respect',\n",
       " 'psycho',\n",
       " 'never',\n",
       " 'affair',\n",
       " ';',\n",
       " 'contrary',\n",
       " 'rejected',\n",
       " 'rather',\n",
       " 'lover',\n",
       " 'wife',\n",
       " 'husband',\n",
       " 'entry',\n",
       " 'doomed',\n",
       " 'collect',\n",
       " 'dust',\n",
       " 'viewed',\n",
       " 'midnight',\n",
       " 'provide',\n",
       " 'suspense',\n",
       " 'sets',\n",
       " 'interspersed',\n",
       " 'opening',\n",
       " 'credits',\n",
       " 'instance',\n",
       " 'serious',\n",
       " 'sounding',\n",
       " 'narrator',\n",
       " 'spouts',\n",
       " 'statistics',\n",
       " 'stalkers',\n",
       " 'ponders',\n",
       " 'cause',\n",
       " 'stalk',\n",
       " 'implicitly',\n",
       " 'implied',\n",
       " 'men',\n",
       " 'shown',\n",
       " 'snapshot',\n",
       " 'actor',\n",
       " 'jay',\n",
       " 'underwood',\n",
       " 'states',\n",
       " 'daryl',\n",
       " 'gleason',\n",
       " 'stalker',\n",
       " 'brooke',\n",
       " 'daniels',\n",
       " 'meant',\n",
       " 'called',\n",
       " 'guesswork',\n",
       " 'required',\n",
       " 'proceeds',\n",
       " 'begins',\n",
       " 'obvious',\n",
       " 'sequence',\n",
       " 'contrived',\n",
       " 'quite',\n",
       " 'brings',\n",
       " 'victim',\n",
       " 'together',\n",
       " 'obsesses',\n",
       " 'follows',\n",
       " 'tries',\n",
       " 'woo',\n",
       " 'plans',\n",
       " 'become',\n",
       " 'desperate',\n",
       " 'elaborate',\n",
       " 'include',\n",
       " 'cliche',\n",
       " 'murdered',\n",
       " 'pet',\n",
       " 'require',\n",
       " 'found',\n",
       " 'exception',\n",
       " 'cat',\n",
       " 'shower',\n",
       " 'events',\n",
       " 'lead',\n",
       " 'inevitable',\n",
       " 'showdown',\n",
       " 'survives',\n",
       " 'invariably',\n",
       " 'conclusion',\n",
       " 'turkey',\n",
       " 'uniformly',\n",
       " 'adequate',\n",
       " 'anything',\n",
       " 'home',\n",
       " 'either',\n",
       " 'turns',\n",
       " 'toward',\n",
       " 'melodrama',\n",
       " 'overdoes',\n",
       " 'words',\n",
       " 'manages',\n",
       " 'creepy',\n",
       " 'pass',\n",
       " 'demands',\n",
       " 'maryam',\n",
       " 'abo',\n",
       " 'close',\n",
       " 'played',\n",
       " 'bond',\n",
       " 'chick',\n",
       " 'living',\n",
       " 'daylights',\n",
       " 'equally',\n",
       " 'title',\n",
       " 'ditzy',\n",
       " 'strong',\n",
       " 'independent',\n",
       " 'business',\n",
       " 'owner',\n",
       " 'needs',\n",
       " 'proceed',\n",
       " 'example',\n",
       " 'suspicions',\n",
       " 'ensure',\n",
       " 'use',\n",
       " 'excuse',\n",
       " 'decides',\n",
       " 'return',\n",
       " 'toolbox',\n",
       " 'left',\n",
       " 'place',\n",
       " ...]"
      ]
     },
     "execution_count": 62,
     "metadata": {},
     "output_type": "execute_result"
    }
   ],
   "source": [
    "word_features"
   ]
  },
  {
   "cell_type": "code",
   "execution_count": 63,
   "metadata": {},
   "outputs": [],
   "source": [
    "def document_features(document): #2\n",
    "    document_words = set(document) #3\n",
    "    features = {}\n",
    "    for word in word_features:\n",
    "        features['contains({})'.format(word)] = (word in document_words)\n",
    "    return features"
   ]
  },
  {
   "cell_type": "code",
   "execution_count": 64,
   "metadata": {},
   "outputs": [
    {
     "name": "stdout",
     "output_type": "stream",
     "text": [
      "{'contains(plot)': True, 'contains(:)': True, 'contains(two)': True, 'contains(teen)': False, 'contains(couples)': False, 'contains(go)': False, 'contains(to)': True, 'contains(a)': True, 'contains(church)': False, 'contains(party)': False, 'contains(,)': True, 'contains(drink)': False, 'contains(and)': True, 'contains(then)': True, 'contains(drive)': False, 'contains(.)': True, 'contains(they)': True, 'contains(get)': True, 'contains(into)': True, 'contains(an)': True, 'contains(accident)': False, 'contains(one)': True, 'contains(of)': True, 'contains(the)': True, 'contains(guys)': False, 'contains(dies)': False, 'contains(but)': True, 'contains(his)': True, 'contains(girlfriend)': True, 'contains(continues)': False, 'contains(see)': False, 'contains(him)': True, 'contains(in)': True, 'contains(her)': False, 'contains(life)': False, 'contains(has)': True, 'contains(nightmares)': False, 'contains(what)': True, \"contains(')\": True, 'contains(s)': True, 'contains(deal)': False, 'contains(?)': False, 'contains(watch)': True, 'contains(movie)': True, 'contains(\")': True, 'contains(sorta)': False, 'contains(find)': False, 'contains(out)': True, 'contains(critique)': False, 'contains(mind)': False, 'contains(-)': True, 'contains(fuck)': False, 'contains(for)': True, 'contains(generation)': False, 'contains(that)': True, 'contains(touches)': False, 'contains(on)': True, 'contains(very)': True, 'contains(cool)': False, 'contains(idea)': True, 'contains(presents)': False, 'contains(it)': True, 'contains(bad)': False, 'contains(package)': False, 'contains(which)': True, 'contains(is)': True, 'contains(makes)': False, 'contains(this)': True, 'contains(review)': False, 'contains(even)': False, 'contains(harder)': False, 'contains(write)': False, 'contains(since)': False, 'contains(i)': False, 'contains(generally)': False, 'contains(applaud)': False, 'contains(films)': False, 'contains(attempt)': False, 'contains(break)': False, 'contains(mold)': False, 'contains(mess)': False, 'contains(with)': True, 'contains(your)': False, 'contains(head)': False, 'contains(such)': False, 'contains(()': True, 'contains(lost)': False, 'contains(highway)': False, 'contains(&)': False, 'contains(memento)': False, 'contains())': True, 'contains(there)': True, 'contains(are)': True, 'contains(good)': False, 'contains(ways)': False, 'contains(making)': True, 'contains(all)': True, 'contains(types)': False, 'contains(these)': False, 'contains(folks)': False, 'contains(just)': True, 'contains(didn)': False, 'contains(t)': False, 'contains(snag)': False, 'contains(correctly)': False, 'contains(seem)': False, 'contains(have)': True, 'contains(taken)': False, 'contains(pretty)': False, 'contains(neat)': False, 'contains(concept)': False, 'contains(executed)': False, 'contains(terribly)': False, 'contains(so)': False, 'contains(problems)': True, 'contains(well)': True, 'contains(its)': False, 'contains(main)': False, 'contains(problem)': False, 'contains(simply)': False, 'contains(too)': False, 'contains(jumbled)': False, 'contains(starts)': False, 'contains(off)': False, 'contains(normal)': False, 'contains(downshifts)': False, 'contains(fantasy)': False, 'contains(world)': True, 'contains(you)': True, 'contains(as)': True, 'contains(audience)': False, 'contains(member)': False, 'contains(no)': False, 'contains(going)': False, 'contains(dreams)': False, 'contains(characters)': False, 'contains(coming)': False, 'contains(back)': False, 'contains(from)': True, 'contains(dead)': False, 'contains(others)': True, 'contains(who)': True, 'contains(look)': True, 'contains(like)': True, 'contains(strange)': False, 'contains(apparitions)': False, 'contains(disappearances)': False, 'contains(looooot)': False, 'contains(chase)': True, 'contains(scenes)': False, 'contains(tons)': False, 'contains(weird)': False, 'contains(things)': True, 'contains(happen)': False, 'contains(most)': True, 'contains(not)': True, 'contains(explained)': False, 'contains(now)': False, 'contains(personally)': False, 'contains(don)': False, 'contains(trying)': False, 'contains(unravel)': False, 'contains(film)': False, 'contains(every)': False, 'contains(when)': True, 'contains(does)': False, 'contains(give)': False, 'contains(me)': True, 'contains(same)': True, 'contains(clue)': False, 'contains(over)': False, 'contains(again)': False, 'contains(kind)': True, 'contains(fed)': False, 'contains(up)': False, 'contains(after)': False, 'contains(while)': True, 'contains(biggest)': False, 'contains(obviously)': False, 'contains(got)': True, 'contains(big)': False, 'contains(secret)': False, 'contains(hide)': False, 'contains(seems)': False, 'contains(want)': False, 'contains(completely)': False, 'contains(until)': False, 'contains(final)': False, 'contains(five)': False, 'contains(minutes)': False, 'contains(do)': True, 'contains(make)': True, 'contains(entertaining)': False, 'contains(thrilling)': False, 'contains(or)': False, 'contains(engaging)': False, 'contains(meantime)': False, 'contains(really)': False, 'contains(sad)': False, 'contains(part)': False, 'contains(arrow)': False, 'contains(both)': False, 'contains(dig)': False, 'contains(flicks)': False, 'contains(we)': False, 'contains(actually)': True, 'contains(figured)': False, 'contains(by)': True, 'contains(half)': False, 'contains(way)': True, 'contains(point)': False, 'contains(strangeness)': False, 'contains(did)': False, 'contains(start)': True, 'contains(little)': True, 'contains(bit)': False, 'contains(sense)': False, 'contains(still)': False, 'contains(more)': False, 'contains(guess)': False, 'contains(bottom)': False, 'contains(line)': False, 'contains(movies)': True, 'contains(should)': False, 'contains(always)': False, 'contains(sure)': False, 'contains(before)': False, 'contains(given)': False, 'contains(password)': False, 'contains(enter)': False, 'contains(understanding)': False, 'contains(mean)': False, 'contains(showing)': False, 'contains(melissa)': False, 'contains(sagemiller)': False, 'contains(running)': False, 'contains(away)': False, 'contains(visions)': False, 'contains(about)': True, 'contains(20)': False, 'contains(throughout)': False, 'contains(plain)': False, 'contains(lazy)': False, 'contains(!)': True, 'contains(okay)': False, 'contains(people)': False, 'contains(chasing)': False, 'contains(know)': False, 'contains(need)': False, 'contains(how)': True, 'contains(giving)': False, 'contains(us)': True, 'contains(different)': False, 'contains(offering)': False, 'contains(further)': False, 'contains(insight)': False, 'contains(down)': False, 'contains(apparently)': False, 'contains(studio)': False, 'contains(took)': False, 'contains(director)': False, 'contains(chopped)': False, 'contains(themselves)': False, 'contains(shows)': False, 'contains(might)': False, 'contains(ve)': False, 'contains(been)': False, 'contains(decent)': False, 'contains(here)': True, 'contains(somewhere)': False, 'contains(suits)': False, 'contains(decided)': False, 'contains(turning)': False, 'contains(music)': False, 'contains(video)': False, 'contains(edge)': False, 'contains(would)': False, 'contains(actors)': False, 'contains(although)': False, 'contains(wes)': False, 'contains(bentley)': False, 'contains(seemed)': False, 'contains(be)': True, 'contains(playing)': True, 'contains(exact)': False, 'contains(character)': False, 'contains(he)': True, 'contains(american)': False, 'contains(beauty)': False, 'contains(only)': True, 'contains(new)': False, 'contains(neighborhood)': False, 'contains(my)': False, 'contains(kudos)': False, 'contains(holds)': False, 'contains(own)': True, 'contains(entire)': False, 'contains(feeling)': False, 'contains(unraveling)': False, 'contains(overall)': False, 'contains(doesn)': False, 'contains(stick)': False, 'contains(because)': False, 'contains(entertain)': False, 'contains(confusing)': False, 'contains(rarely)': False, 'contains(excites)': False, 'contains(feels)': False, 'contains(redundant)': False, 'contains(runtime)': False, 'contains(despite)': False, 'contains(ending)': False, 'contains(explanation)': False, 'contains(craziness)': False, 'contains(came)': False, 'contains(oh)': False, 'contains(horror)': False, 'contains(slasher)': False, 'contains(flick)': False, 'contains(packaged)': False, 'contains(someone)': False, 'contains(assuming)': False, 'contains(genre)': False, 'contains(hot)': False, 'contains(kids)': False, 'contains(also)': True, 'contains(wrapped)': False, 'contains(production)': False, 'contains(years)': False, 'contains(ago)': False, 'contains(sitting)': False, 'contains(shelves)': False, 'contains(ever)': True, 'contains(whatever)': False, 'contains(skip)': False, 'contains(where)': True, 'contains(joblo)': False, 'contains(nightmare)': False, 'contains(elm)': False, 'contains(street)': False, 'contains(3)': False, 'contains(7)': False, 'contains(/)': False, 'contains(10)': False, 'contains(blair)': False, 'contains(witch)': False, 'contains(2)': False, 'contains(crow)': False, 'contains(9)': False, 'contains(salvation)': False, 'contains(4)': False, 'contains(stir)': False, 'contains(echoes)': False, 'contains(8)': False, 'contains(happy)': False, 'contains(bastard)': False, 'contains(quick)': True, 'contains(damn)': False, 'contains(y2k)': False, 'contains(bug)': False, 'contains(starring)': False, 'contains(jamie)': False, 'contains(lee)': False, 'contains(curtis)': False, 'contains(another)': False, 'contains(baldwin)': False, 'contains(brother)': False, 'contains(william)': False, 'contains(time)': False, 'contains(story)': False, 'contains(regarding)': False, 'contains(crew)': False, 'contains(tugboat)': False, 'contains(comes)': False, 'contains(across)': False, 'contains(deserted)': False, 'contains(russian)': False, 'contains(tech)': False, 'contains(ship)': False, 'contains(kick)': False, 'contains(power)': False, 'contains(within)': False, 'contains(gore)': False, 'contains(bringing)': False, 'contains(few)': False, 'contains(action)': True, 'contains(sequences)': False, 'contains(virus)': False, 'contains(empty)': False, 'contains(flash)': False, 'contains(substance)': False, 'contains(why)': False, 'contains(was)': False, 'contains(middle)': False, 'contains(nowhere)': False, 'contains(origin)': False, 'contains(pink)': False, 'contains(flashy)': False, 'contains(thing)': False, 'contains(hit)': False, 'contains(mir)': False, 'contains(course)': True, 'contains(donald)': False, 'contains(sutherland)': False, 'contains(stumbling)': False, 'contains(around)': False, 'contains(drunkenly)': False, 'contains(hey)': False, 'contains(let)': False, 'contains(some)': False, 'contains(robots)': False, 'contains(acting)': False, 'contains(below)': False, 'contains(average)': False, 'contains(likes)': False, 'contains(re)': True, 'contains(likely)': False, 'contains(work)': False, 'contains(halloween)': False, 'contains(h20)': False, 'contains(wasted)': False, 'contains(real)': False, 'contains(star)': False, 'contains(stan)': False, 'contains(winston)': False, 'contains(robot)': False, 'contains(design)': False, 'contains(schnazzy)': False, 'contains(cgi)': False, 'contains(occasional)': False, 'contains(shot)': False, 'contains(picking)': False, 'contains(brain)': False, 'contains(if)': True, 'contains(body)': False, 'contains(parts)': False, 'contains(turn)': False, 'contains(otherwise)': False, 'contains(much)': False, 'contains(sunken)': False, 'contains(jaded)': False, 'contains(viewer)': False, 'contains(thankful)': False, 'contains(invention)': False, 'contains(timex)': False, 'contains(indiglo)': False, 'contains(based)': False, 'contains(late)': False, 'contains(1960)': False, 'contains(television)': False, 'contains(show)': False, 'contains(name)': False, 'contains(mod)': False, 'contains(squad)': False, 'contains(tells)': False, 'contains(tale)': False, 'contains(three)': False, 'contains(reformed)': False, 'contains(criminals)': False, 'contains(under)': False, 'contains(employ)': False, 'contains(police)': False, 'contains(undercover)': True, 'contains(however)': True, 'contains(wrong)': True, 'contains(evidence)': False, 'contains(gets)': True, 'contains(stolen)': False, 'contains(immediately)': False, 'contains(suspicion)': False, 'contains(ads)': False, 'contains(cuts)': False, 'contains(claire)': False, 'contains(dane)': False, 'contains(nice)': False, 'contains(hair)': False, 'contains(cute)': False, 'contains(outfits)': False, 'contains(car)': False, 'contains(chases)': False, 'contains(stuff)': False, 'contains(blowing)': False, 'contains(sounds)': False, 'contains(first)': False, 'contains(fifteen)': False, 'contains(quickly)': False, 'contains(becomes)': False, 'contains(apparent)': False, 'contains(certainly)': False, 'contains(slick)': False, 'contains(looking)': False, 'contains(complete)': False, 'contains(costumes)': False, 'contains(isn)': False, 'contains(enough)': False, 'contains(best)': True, 'contains(described)': False, 'contains(cross)': False, 'contains(between)': True, 'contains(hour)': False, 'contains(long)': False, 'contains(cop)': False, 'contains(stretched)': False, 'contains(span)': False, 'contains(single)': False, 'contains(clich)': False, 'contains(matter)': False, 'contains(elements)': False, 'contains(recycled)': False, 'contains(everything)': True, 'contains(already)': False, 'contains(seen)': False, 'contains(nothing)': False, 'contains(spectacular)': False, 'contains(sometimes)': False, 'contains(bordering)': False, 'contains(wooden)': False, 'contains(danes)': False, 'contains(omar)': False, 'contains(epps)': False, 'contains(deliver)': False, 'contains(their)': False, 'contains(lines)': False, 'contains(bored)': False, 'contains(transfers)': False, 'contains(onto)': False, 'contains(escape)': False, 'contains(relatively)': False, 'contains(unscathed)': False, 'contains(giovanni)': False, 'contains(ribisi)': False, 'contains(plays)': False, 'contains(resident)': False, 'contains(crazy)': False, 'contains(man)': False, 'contains(ultimately)': False, 'contains(being)': False, 'contains(worth)': True, 'contains(watching)': False, 'contains(unfortunately)': False, 'contains(save)': False, 'contains(convoluted)': False, 'contains(apart)': False, 'contains(occupying)': False, 'contains(screen)': True, 'contains(young)': False, 'contains(cast)': False, 'contains(clothes)': False, 'contains(hip)': False, 'contains(soundtrack)': False, 'contains(appears)': False, 'contains(geared)': False, 'contains(towards)': False, 'contains(teenage)': False, 'contains(mindset)': False, 'contains(r)': False, 'contains(rating)': False, 'contains(content)': False, 'contains(justify)': False, 'contains(juvenile)': False, 'contains(older)': False, 'contains(information)': False, 'contains(literally)': False, 'contains(spoon)': False, 'contains(hard)': False, 'contains(instead)': False, 'contains(telling)': False, 'contains(dialogue)': False, 'contains(poorly)': False, 'contains(written)': False, 'contains(extremely)': False, 'contains(predictable)': False, 'contains(progresses)': False, 'contains(won)': False, 'contains(care)': False, 'contains(heroes)': False, 'contains(any)': False, 'contains(jeopardy)': False, 'contains(ll)': False, 'contains(aren)': False, 'contains(basing)': False, 'contains(nobody)': False, 'contains(remembers)': False, 'contains(questionable)': False, 'contains(wisdom)': False, 'contains(especially)': True, 'contains(considers)': False, 'contains(target)': False, 'contains(fact)': False, 'contains(number)': False, 'contains(memorable)': False, 'contains(can)': False, 'contains(counted)': False, 'contains(hand)': False, 'contains(missing)': False, 'contains(finger)': False, 'contains(times)': False, 'contains(checked)': False, 'contains(six)': False, 'contains(clear)': False, 'contains(indication)': False, 'contains(them)': True, 'contains(than)': False, 'contains(cash)': False, 'contains(spending)': False, 'contains(dollar)': False, 'contains(judging)': False, 'contains(rash)': False, 'contains(awful)': False, 'contains(seeing)': True, 'contains(avoid)': False, 'contains(at)': False, 'contains(costs)': False, 'contains(quest)': False, 'contains(camelot)': False, 'contains(warner)': False, 'contains(bros)': False, 'contains(feature)': False, 'contains(length)': False, 'contains(fully)': False, 'contains(animated)': False, 'contains(steal)': False, 'contains(clout)': False, 'contains(disney)': False, 'contains(cartoon)': False, 'contains(empire)': False, 'contains(mouse)': False, 'contains(reason)': False, 'contains(worried)': False, 'contains(other)': True, 'contains(recent)': False, 'contains(challenger)': False, 'contains(throne)': False, 'contains(last)': False, 'contains(fall)': False, 'contains(promising)': False, 'contains(flawed)': False, 'contains(20th)': False, 'contains(century)': False, 'contains(fox)': False, 'contains(anastasia)': False, 'contains(hercules)': False, 'contains(lively)': False, 'contains(colorful)': False, 'contains(palate)': False, 'contains(had)': False, 'contains(beat)': False, 'contains(hands)': False, 'contains(crown)': False, 'contains(1997)': False, 'contains(piece)': False, 'contains(animation)': False, 'contains(year)': False, 'contains(contest)': False, 'contains(arrival)': False, 'contains(magic)': False, 'contains(kingdom)': False, 'contains(mediocre)': False, 'contains(--)': True, 'contains(d)': False, 'contains(pocahontas)': False, 'contains(those)': False, 'contains(keeping)': False, 'contains(score)': False, 'contains(nearly)': False, 'contains(dull)': False, 'contains(revolves)': False, 'contains(adventures)': False, 'contains(free)': False, 'contains(spirited)': False, 'contains(kayley)': False, 'contains(voiced)': False, 'contains(jessalyn)': False, 'contains(gilsig)': False, 'contains(early)': True, 'contains(daughter)': False, 'contains(belated)': False, 'contains(knight)': False, 'contains(king)': False, 'contains(arthur)': False, 'contains(round)': False, 'contains(table)': False, 'contains(dream)': False, 'contains(follow)': False, 'contains(father)': False, 'contains(footsteps)': False, 'contains(she)': True, 'contains(chance)': False, 'contains(evil)': False, 'contains(warlord)': False, 'contains(ruber)': False, 'contains(gary)': False, 'contains(oldman)': False, 'contains(ex)': False, 'contains(gone)': False, 'contains(steals)': False, 'contains(magical)': False, 'contains(sword)': False, 'contains(excalibur)': False, 'contains(accidentally)': False, 'contains(loses)': False, 'contains(dangerous)': True, 'contains(booby)': False, 'contains(trapped)': False, 'contains(forest)': False, 'contains(help)': True, 'contains(hunky)': False, 'contains(blind)': False, 'contains(timberland)': False, 'contains(dweller)': False, 'contains(garrett)': False, 'contains(carey)': False, 'contains(elwes)': False, 'contains(headed)': False, 'contains(dragon)': False, 'contains(eric)': False, 'contains(idle)': False, 'contains(rickles)': False, 'contains(arguing)': False, 'contains(itself)': False, 'contains(able)': False, 'contains(medieval)': False, 'contains(sexist)': False, 'contains(prove)': False, 'contains(fighter)': False, 'contains(side)': False, 'contains(pure)': False, 'contains(showmanship)': False, 'contains(essential)': False, 'contains(element)': False, 'contains(expected)': False, 'contains(climb)': False, 'contains(high)': False, 'contains(ranks)': False, 'contains(differentiates)': False, 'contains(something)': False, 'contains(saturday)': False, 'contains(morning)': False, 'contains(subpar)': False, 'contains(instantly)': False, 'contains(forgettable)': False, 'contains(songs)': False, 'contains(integrated)': False, 'contains(computerized)': False, 'contains(footage)': False, 'contains(compare)': False, 'contains(run)': False, 'contains(angry)': False, 'contains(ogre)': False, 'contains(herc)': False, 'contains(battle)': False, 'contains(hydra)': False, 'contains(rest)': False, 'contains(case)': False, 'contains(stink)': False, 'contains(none)': False, 'contains(remotely)': False, 'contains(interesting)': False, 'contains(race)': False, 'contains(bland)': False, 'contains(end)': False, 'contains(tie)': False, 'contains(win)': False, 'contains(comedy)': True, 'contains(shtick)': False, 'contains(awfully)': False, 'contains(cloying)': False, 'contains(least)': True, 'contains(signs)': False, 'contains(pulse)': False, 'contains(fans)': False, \"contains(-')\": False, 'contains(90s)': False, 'contains(tgif)': False, 'contains(will)': True, 'contains(thrilled)': False, 'contains(jaleel)': False, 'contains(urkel)': False, 'contains(white)': False, 'contains(bronson)': False, 'contains(balki)': False, 'contains(pinchot)': False, 'contains(sharing)': False, 'contains(nicely)': False, 'contains(realized)': False, 'contains(though)': False, 'contains(m)': False, 'contains(loss)': False, 'contains(recall)': False, 'contains(specific)': False, 'contains(providing)': False, 'contains(voice)': False, 'contains(talent)': False, 'contains(enthusiastic)': False, 'contains(paired)': False, 'contains(singers)': False, 'contains(sound)': False, 'contains(musical)': False, 'contains(moments)': False, 'contains(jane)': False, 'contains(seymour)': False, 'contains(celine)': False, 'contains(dion)': False, 'contains(must)': False, 'contains(strain)': False, 'contains(through)': False, 'contains(aside)': False, 'contains(children)': False, 'contains(probably)': False, 'contains(adults)': False, 'contains(grievous)': False, 'contains(error)': False, 'contains(lack)': False, 'contains(personality)': False, 'contains(learn)': False, 'contains(goes)': False, 'contains(synopsis)': False, 'contains(mentally)': False, 'contains(unstable)': False, 'contains(undergoing)': False, 'contains(psychotherapy)': False, 'contains(saves)': False, 'contains(boy)': False, 'contains(potentially)': False, 'contains(fatal)': False, 'contains(falls)': False, 'contains(love)': False, 'contains(mother)': False, 'contains(fledgling)': False, 'contains(restauranteur)': False, 'contains(unsuccessfully)': False, 'contains(attempting)': False, 'contains(gain)': False, 'contains(woman)': True, 'contains(favor)': False, 'contains(takes)': False, 'contains(pictures)': False, 'contains(kills)': False, 'contains(comments)': True, 'contains(stalked)': False, 'contains(yet)': False, 'contains(seemingly)': False, 'contains(endless)': True, 'contains(string)': False, 'contains(spurned)': False, 'contains(psychos)': False, 'contains(getting)': True, 'contains(revenge)': False, 'contains(type)': False, 'contains(stable)': False, 'contains(category)': False, 'contains(1990s)': False, 'contains(industry)': False, 'contains(theatrical)': False, 'contains(direct)': False, 'contains(proliferation)': False, 'contains(may)': False, 'contains(due)': False, 'contains(typically)': False, 'contains(inexpensive)': False, 'contains(produce)': False, 'contains(special)': False, 'contains(effects)': False, 'contains(stars)': False, 'contains(serve)': False, 'contains(vehicles)': False, 'contains(nudity)': False, 'contains(allowing)': False, 'contains(frequent)': False, 'contains(night)': False, 'contains(cable)': False, 'contains(wavers)': False, 'contains(slightly)': False, 'contains(norm)': False, 'contains(respect)': False, 'contains(psycho)': False, 'contains(never)': True, 'contains(affair)': False, 'contains(;)': False, 'contains(contrary)': False, 'contains(rejected)': False, 'contains(rather)': False, 'contains(lover)': False, 'contains(wife)': True, 'contains(husband)': False, 'contains(entry)': False, 'contains(doomed)': False, 'contains(collect)': False, 'contains(dust)': False, 'contains(viewed)': False, 'contains(midnight)': False, 'contains(provide)': False, 'contains(suspense)': False, 'contains(sets)': False, 'contains(interspersed)': False, 'contains(opening)': False, 'contains(credits)': False, 'contains(instance)': False, 'contains(serious)': False, 'contains(sounding)': False, 'contains(narrator)': False, 'contains(spouts)': False, 'contains(statistics)': False, 'contains(stalkers)': False, 'contains(ponders)': False, 'contains(cause)': False, 'contains(stalk)': False, 'contains(implicitly)': False, 'contains(implied)': False, 'contains(men)': False, 'contains(shown)': False, 'contains(snapshot)': False, 'contains(actor)': False, 'contains(jay)': False, 'contains(underwood)': False, 'contains(states)': False, 'contains(daryl)': False, 'contains(gleason)': False, 'contains(stalker)': False, 'contains(brooke)': False, 'contains(daniels)': False, 'contains(meant)': False, 'contains(called)': False, 'contains(guesswork)': False, 'contains(required)': False, 'contains(proceeds)': False, 'contains(begins)': False, 'contains(obvious)': False, 'contains(sequence)': False, 'contains(contrived)': False, 'contains(quite)': False, 'contains(brings)': False, 'contains(victim)': False, 'contains(together)': False, 'contains(obsesses)': False, 'contains(follows)': False, 'contains(tries)': True, 'contains(woo)': False, 'contains(plans)': False, 'contains(become)': False, 'contains(desperate)': False, 'contains(elaborate)': False, 'contains(include)': False, 'contains(cliche)': False, 'contains(murdered)': False, 'contains(pet)': False, 'contains(require)': False, 'contains(found)': False, 'contains(exception)': False, 'contains(cat)': False, 'contains(shower)': False, 'contains(events)': False, 'contains(lead)': True, 'contains(inevitable)': False, 'contains(showdown)': False, 'contains(survives)': False, 'contains(invariably)': False, 'contains(conclusion)': False, 'contains(turkey)': False, 'contains(uniformly)': False, 'contains(adequate)': False, 'contains(anything)': False, 'contains(home)': False, 'contains(either)': False, 'contains(turns)': False, 'contains(toward)': False, 'contains(melodrama)': False, 'contains(overdoes)': False, 'contains(words)': False, 'contains(manages)': False, 'contains(creepy)': False, 'contains(pass)': False, 'contains(demands)': False, 'contains(maryam)': False, 'contains(abo)': False, 'contains(close)': False, 'contains(played)': True, 'contains(bond)': False, 'contains(chick)': False, 'contains(living)': False, 'contains(daylights)': False, 'contains(equally)': False, 'contains(title)': False, 'contains(ditzy)': False, 'contains(strong)': False, 'contains(independent)': False, 'contains(business)': False, 'contains(owner)': False, 'contains(needs)': False, 'contains(proceed)': False, 'contains(example)': False, 'contains(suspicions)': False, 'contains(ensure)': False, 'contains(use)': False, 'contains(excuse)': False, 'contains(decides)': False, 'contains(return)': False, 'contains(toolbox)': False, 'contains(left)': False, 'contains(place)': True, 'contains(house)': False, 'contains(leave)': False, 'contains(door)': False, 'contains(answers)': False, 'contains(opens)': False, 'contains(wanders)': False, 'contains(returns)': False, 'contains(enters)': False, 'contains(our)': False, 'contains(heroine)': False, 'contains(danger)': False, 'contains(somehow)': False, 'contains(parked)': False, 'contains(front)': False, 'contains(right)': False, 'contains(oblivious)': False, 'contains(presence)': False, 'contains(inside)': False, 'contains(whole)': False, 'contains(episode)': False, 'contains(places)': False, 'contains(incredible)': False, 'contains(suspension)': False, 'contains(disbelief)': False, 'contains(questions)': False, 'contains(validity)': False, 'contains(intelligence)': False, 'contains(receives)': False, 'contains(highly)': False, 'contains(derivative)': False, 'contains(somewhat)': False, 'contains(boring)': False, 'contains(cannot)': False, 'contains(watched)': False, 'contains(rated)': False, 'contains(mostly)': False, 'contains(several)': False, 'contains(murder)': False, 'contains(brief)': True, 'contains(strip)': False, 'contains(bar)': False, 'contains(offensive)': False, 'contains(many)': True, 'contains(thrillers)': False, 'contains(mood)': False, 'contains(stake)': False, 'contains(else)': False, 'contains(capsule)': True, 'contains(2176)': False, 'contains(planet)': False, 'contains(mars)': False, 'contains(taking)': False, 'contains(custody)': False, 'contains(accused)': False, 'contains(murderer)': False, 'contains(face)': False, 'contains(menace)': False, 'contains(lot)': False, 'contains(fighting)': False, 'contains(john)': False, 'contains(carpenter)': False, 'contains(reprises)': False, 'contains(ideas)': False, 'contains(previous)': False, 'contains(assault)': False, 'contains(precinct)': False, 'contains(13)': False, 'contains(homage)': False, 'contains(himself)': False, 'contains(0)': False, 'contains(+)': False, 'contains(believes)': False, 'contains(fight)': True, 'contains(horrible)': False, 'contains(writer)': False, 'contains(supposedly)': False, 'contains(expert)': False, 'contains(mistake)': False, 'contains(ghosts)': False, 'contains(drawn)': False, 'contains(humans)': False, 'contains(surprisingly)': False, 'contains(low)': False, 'contains(powered)': False, 'contains(alien)': False, 'contains(addition)': False, 'contains(anybody)': False, 'contains(made)': False, 'contains(grounds)': False, 'contains(sue)': False, 'contains(chock)': False, 'contains(full)': False, 'contains(pieces)': False, 'contains(prince)': False, 'contains(darkness)': False, 'contains(surprising)': False, 'contains(managed)': False, 'contains(fit)': False, 'contains(admittedly)': False, 'contains(novel)': False, 'contains(science)': False, 'contains(fiction)': False, 'contains(experience)': False, 'contains(terraformed)': False, 'contains(walk)': False, 'contains(surface)': False, 'contains(without)': False, 'contains(breathing)': False, 'contains(gear)': False, 'contains(budget)': False, 'contains(mentioned)': False, 'contains(gravity)': False, 'contains(increased)': False, 'contains(earth)': False, 'contains(easier)': False, 'contains(society)': False, 'contains(changed)': False, 'contains(advanced)': False, 'contains(culture)': False, 'contains(women)': False, 'contains(positions)': False, 'contains(control)': False, 'contains(view)': False, 'contains(stagnated)': False, 'contains(female)': False, 'contains(beyond)': False, 'contains(minor)': False, 'contains(technological)': False, 'contains(advances)': False, 'contains(less)': False, 'contains(175)': False, 'contains(expect)': False, 'contains(change)': False, 'contains(ten)': False, 'contains(basic)': False, 'contains(common)': False, 'contains(except)': False, 'contains(yes)': False, 'contains(replaced)': False, 'contains(tacky)': False, 'contains(rundown)': False, 'contains(martian)': False, 'contains(mining)': False, 'contains(colony)': False, 'contains(having)': False, 'contains(criminal)': False, 'contains(napolean)': False, 'contains(wilson)': False, 'contains(desolation)': False, 'contains(williams)': False, 'contains(facing)': False, 'contains(hoodlums)': False, 'contains(automatic)': False, 'contains(weapons)': False, 'contains(nature)': False, 'contains(behave)': False, 'contains(manner)': False, 'contains(essentially)': False, 'contains(human)': False, 'contains(savages)': False, 'contains(lapse)': False, 'contains(imagination)': False, 'contains(told)': False, 'contains(flashback)': False, 'contains(entirely)': False, 'contains(filmed)': False, 'contains(almost)': False, 'contains(tones)': False, 'contains(red)': False, 'contains(yellow)': False, 'contains(black)': False, 'contains(powerful)': False, 'contains(scene)': True, 'contains(train)': True, 'contains(rushing)': False, 'contains(heavy)': False, 'contains(sadly)': False, 'contains(buildup)': False, 'contains(terror)': False, 'contains(creates)': False, 'contains(looks)': True, 'contains(fugitive)': False, 'contains(wannabes)': False, 'contains(rock)': False, 'contains(band)': False, 'contains(kiss)': False, 'contains(building)': False, 'contains(bunch)': False, 'contains(sudden)': False, 'contains(jump)': False, 'contains(sucker)': False, 'contains(thinking)': False, 'contains(scary)': False, 'contains(happening)': False, 'contains(standard)': False, 'contains(haunted)': False, 'contains(shock)': False, 'contains(great)': True, 'contains(newer)': False, 'contains(unimpressive)': False, 'contains(digital)': False, 'contains(decapitations)': False, 'contains(fights)': False, 'contains(short)': False, 'contains(stretch)': False, 'contains(release)': False, 'contains(mission)': False, 'contains(panned)': False, 'contains(reviewers)': False, 'contains(better)': False, 'contains(rate)': False, 'contains(scale)': False, 'contains(following)': False, 'contains(showed)': False, 'contains(liked)': False, 'contains(moderately)': False, 'contains(classic)': False, 'contains(comment)': False, 'contains(twice)': False, 'contains(ask)': False, 'contains(yourself)': False, 'contains(8mm)': False, 'contains(eight)': True, 'contains(millimeter)': False, 'contains(wholesome)': False, 'contains(surveillance)': False, 'contains(sight)': False, 'contains(values)': False, 'contains(becoming)': False, 'contains(enmeshed)': False, 'contains(seedy)': False, 'contains(sleazy)': False, 'contains(underworld)': False, 'contains(hardcore)': False, 'contains(pornography)': False, 'contains(bubbling)': False, 'contains(beneath)': False, 'contains(town)': False, 'contains(americana)': False, 'contains(sordid)': False, 'contains(sick)': False, 'contains(depraved)': False, 'contains(necessarily)': False, 'contains(stop)': True, 'contains(order)': False, 'contains(satisfy)': False, 'contains(twisted)': False, 'contains(desires)': False, 'contains(position)': False, 'contains(influence)': False, 'contains(kinds)': False, 'contains(demented)': False, 'contains(talking)': False, 'contains(snuff)': False, 'contains(supposed)': False, 'contains(documentaries)': False, 'contains(victims)': False, 'contains(brutalized)': False, 'contains(killed)': False, 'contains(camera)': False, 'contains(joel)': False, 'contains(schumacher)': False, 'contains(credit)': False, 'contains(batman)': False, 'contains(robin)': False, 'contains(kill)': False, 'contains(forever)': False, 'contains(client)': False, 'contains(thirds)': False, 'contains(unwind)': False, 'contains(fairly)': True, 'contains(conventional)': False, 'contains(persons)': False, 'contains(drama)': False, 'contains(albeit)': False, 'contains(particularly)': False, 'contains(unsavory)': False, 'contains(core)': False, 'contains(threatening)': False, 'contains(along)': True, 'contains(explodes)': False, 'contains(violence)': False, 'contains(think)': False, 'contains(finally)': False, 'contains(tags)': False, 'contains(ridiculous)': False, 'contains(self)': False, 'contains(righteous)': False, 'contains(finale)': False, 'contains(drags)': False, 'contains(unpleasant)': False, 'contains(trust)': False, 'contains(waste)': False, 'contains(hours)': False, 'contains(nicolas)': False, 'contains(snake)': False, 'contains(eyes)': False, 'contains(cage)': False, 'contains(private)': False, 'contains(investigator)': False, 'contains(tom)': False, 'contains(welles)': False, 'contains(hired)': False, 'contains(wealthy)': False, 'contains(philadelphia)': False, 'contains(widow)': False, 'contains(determine)': False, 'contains(whether)': False, 'contains(reel)': False, 'contains(safe)': False, 'contains(documents)': False, 'contains(girl)': False, 'contains(assignment)': True, 'contains(factly)': False, 'contains(puzzle)': False, 'contains(neatly)': False, 'contains(specialized)': False, 'contains(skills)': False, 'contains(training)': False, 'contains(easy)': False, 'contains(cops)': False, 'contains(toilet)': False, 'contains(tanks)': False, 'contains(clues)': False, 'contains(deeper)': False, 'contains(digs)': False, 'contains(investigation)': False, 'contains(obsessed)': False, 'contains(george)': False, 'contains(c)': False, 'contains(scott)': False, 'contains(paul)': False, 'contains(schrader)': False, 'contains(occasionally)': False, 'contains(flickering)': False, 'contains(whirs)': False, 'contains(sprockets)': False, 'contains(winding)': False, 'contains(projector)': False, 'contains(reminding)': False, 'contains(task)': False, 'contains(hints)': False, 'contains(toll)': False, 'contains(lovely)': False, 'contains(catherine)': False, 'contains(keener)': False, 'contains(frustrated)': False, 'contains(cleveland)': False, 'contains(ugly)': False, 'contains(split)': False, 'contains(level)': False, 'contains(harrisburg)': False, 'contains(pa)': False, 'contains(condemn)': False, 'contains(condone)': False, 'contains(subject)': False, 'contains(exploits)': False, 'contains(irony)': False, 'contains(seven)': False, 'contains(scribe)': False, 'contains(andrew)': False, 'contains(kevin)': True, 'contains(walker)': False, 'contains(vision)': False, 'contains(lane)': False, 'contains(limited)': False, 'contains(hollywood)': False, 'contains(product)': False, 'contains(snippets)': False, 'contains(covering)': False, 'contains(later)': False, 'contains(joaquin)': False, 'contains(phoenix)': False, 'contains(far)': False, 'contains(adult)': False, 'contains(bookstore)': False, 'contains(flunky)': False, 'contains(max)': False, 'contains(california)': False, 'contains(cover)': False, 'contains(horrid)': False, 'contains(screened)': False, 'contains(familiar)': False, 'contains(revelation)': False, 'contains(sexual)': False, 'contains(deviants)': False, 'contains(indeed)': False, 'contains(monsters)': False, 'contains(everyday)': False, 'contains(neither)': False, 'contains(super)': False, 'contains(nor)': False, 'contains(shocking)': False, 'contains(banality)': False, 'contains(exactly)': False, 'contains(felt)': False, 'contains(weren)': False, 'contains(nine)': False, 'contains(laughs)': False, 'contains(months)': False, 'contains(terrible)': False, 'contains(mr)': False, 'contains(hugh)': False, 'contains(grant)': False, 'contains(huge)': False, 'contains(dork)': False, 'contains(oral)': False, 'contains(sex)': False, 'contains(prostitution)': False, 'contains(referring)': False, 'contains(bugs)': False, 'contains(annoying)': False, 'contains(adam)': False, 'contains(sandler)': False, 'contains(jim)': False, 'contains(carrey)': False, 'contains(eye)': False, 'contains(flutters)': False, 'contains(nervous)': False, 'contains(smiles)': False, 'contains(slapstick)': False, 'contains(fistfight)': False, 'contains(delivery)': False, 'contains(room)': False, 'contains(culminating)': False, 'contains(joan)': False, 'contains(cusack)': False, 'contains(lap)': False, 'contains(paid)': False, 'contains($)': False, 'contains(60)': False, 'contains(included)': False, 'contains(obscene)': False, 'contains(double)': False, 'contains(entendres)': False, 'contains(obstetrician)': False, 'contains(pregnant)': False, 'contains(pussy)': False, 'contains(size)': False, 'contains(hairs)': False, 'contains(coat)': False, 'contains(nonetheless)': False, 'contains(exchange)': False, 'contains(cookie)': False, 'contains(cutter)': False, 'contains(originality)': False, 'contains(humor)': False, 'contains(successful)': False, 'contains(child)': False, 'contains(psychiatrist)': False, 'contains(psychologist)': False, 'contains(scriptwriters)': False, 'contains(could)': False, 'contains(inject)': False, 'contains(unfunny)': False, 'contains(kid)': False, 'contains(dad)': False, 'contains(asshole)': False, 'contains(eyelashes)': False, 'contains(offers)': False, 'contains(smile)': False, 'contains(responds)': False, 'contains(english)': False, 'contains(accent)': False, 'contains(attitude)': False, 'contains(possibly)': False, 'contains(_huge_)': False, 'contains(beside)': False, 'contains(includes)': False, 'contains(needlessly)': False, 'contains(stupid)': False, 'contains(jokes)': False, 'contains(olds)': False, 'contains(everyone)': False, 'contains(shakes)': False, 'contains(anyway)': False, 'contains(finds)': False, 'contains(usual)': False, 'contains(reaction)': False, 'contains(fluttered)': False, 'contains(paves)': False, 'contains(possible)': False, 'contains(pregnancy)': False, 'contains(birth)': False, 'contains(gag)': False, 'contains(book)': False, 'contains(friend)': False, 'contains(arnold)': True, 'contains(provides)': False, 'contains(cacophonous)': False, 'contains(funny)': True, 'contains(beats)': False, 'contains(costumed)': False, 'contains(arnie)': False, 'contains(dinosaur)': False, 'contains(draw)': False, 'contains(parallels)': False, 'contains(toy)': False, 'contains(store)': False, 'contains(jeff)': False, 'contains(goldblum)': False, 'contains(hid)': False, 'contains(dreadful)': False, 'contains(hideaway)': False, 'contains(artist)': False, 'contains(fear)': False, 'contains(simultaneous)': False, 'contains(longing)': False, 'contains(commitment)': False, 'contains(doctor)': False, 'contains(recently)': False, 'contains(switch)': False, 'contains(veterinary)': False, 'contains(medicine)': False, 'contains(obstetrics)': False, 'contains(joke)': False, 'contains(old)': False, 'contains(foreign)': False, 'contains(guy)': True, 'contains(mispronounces)': False, 'contains(stereotype)': False, 'contains(say)': False, 'contains(yakov)': False, 'contains(smirnov)': False, 'contains(favorite)': False, 'contains(vodka)': False, 'contains(hence)': False, 'contains(take)': False, 'contains(volvo)': False, 'contains(nasty)': False, 'contains(unamusing)': False, 'contains(heads)': False, 'contains(simultaneously)': False, 'contains(groan)': False, 'contains(failure)': False, 'contains(loud)': False, 'contains(failed)': False, 'contains(uninspired)': False, 'contains(lunacy)': False, 'contains(sunset)': False, 'contains(boulevard)': False, 'contains(arrest)': False, 'contains(please)': False, 'contains(caught)': False, 'contains(pants)': False, 'contains(bring)': False, 'contains(theaters)': False, 'contains(faces)': False, 'contains(90)': False, 'contains(forced)': False, 'contains(unauthentic)': False, 'contains(anyone)': False, 'contains(q)': False, 'contains(80)': False, 'contains(sorry)': False, 'contains(money)': False, 'contains(unfulfilled)': False, 'contains(desire)': False, 'contains(spend)': False, 'contains(bucks)': False, 'contains(call)': False, 'contains(road)': False, 'contains(trip)': False, 'contains(walking)': False, 'contains(wounded)': False, 'contains(stellan)': False, 'contains(skarsg)': False, 'contains(rd)': False, 'contains(convincingly)': False, 'contains(zombified)': False, 'contains(drunken)': False, 'contains(loser)': False, 'contains(difficult)': True, 'contains(smelly)': False, 'contains(boozed)': False, 'contains(reliable)': False, 'contains(swedish)': False, 'contains(adds)': False, 'contains(depth)': False, 'contains(significance)': False, 'contains(plodding)': False, 'contains(aberdeen)': False, 'contains(sentimental)': False, 'contains(painfully)': False, 'contains(mundane)': False, 'contains(european)': False, 'contains(playwright)': False, 'contains(august)': False, 'contains(strindberg)': False, 'contains(built)': False, 'contains(career)': False, 'contains(families)': False, 'contains(relationships)': False, 'contains(paralyzed)': False, 'contains(secrets)': False, 'contains(unable)': False, 'contains(express)': False, 'contains(longings)': False, 'contains(accurate)': False, 'contains(reflection)': False, 'contains(strives)': False, 'contains(focusing)': False, 'contains(pairing)': False, 'contains(alcoholic)': False, 'contains(tomas)': False, 'contains(alienated)': False, 'contains(openly)': False, 'contains(hostile)': False, 'contains(yuppie)': False, 'contains(kaisa)': False, 'contains(lena)': False, 'contains(headey)': False, 'contains(gossip)': False, 'contains(haven)': False, 'contains(spoken)': False, 'contains(wouldn)': False, 'contains(norway)': False, 'contains(scotland)': False, 'contains(automobile)': False, 'contains(charlotte)': False, 'contains(rampling)': False, 'contains(sand)': False, 'contains(rotting)': False, 'contains(hospital)': False, 'contains(bed)': False, 'contains(cancer)': False, 'contains(soap)': False, 'contains(opera)': False, 'contains(twist)': False, 'contains(days)': False, 'contains(live)': False, 'contains(blitzed)': False, 'contains(step)': False, 'contains(foot)': False, 'contains(plane)': False, 'contains(hits)': False, 'contains(open)': False, 'contains(loathing)': False, 'contains(each)': True, 'contains(periodic)': False, 'contains(stops)': True, 'contains(puke)': False, 'contains(dashboard)': False, 'contains(whenever)': False, 'contains(muttering)': False, 'contains(rotten)': False, 'contains(turned)': False, 'contains(sloshed)': False, 'contains(viewpoint)': False, 'contains(recognizes)': False, 'contains(apple)': False, 'contains(hasn)': False, 'contains(fallen)': False, 'contains(tree)': False, 'contains(nosebleeds)': False, 'contains(snorting)': False, 'contains(coke)': False, 'contains(sabotages)': False, 'contains(personal)': False, 'contains(indifference)': False, 'contains(restrain)': False, 'contains(vindictive)': False, 'contains(temper)': False, 'contains(ain)': False, 'contains(pair)': False, 'contains(true)': False, 'contains(notes)': False, 'contains(unspoken)': False, 'contains(familial)': False, 'contains(empathy)': False, 'contains(note)': False, 'contains(repetitively)': False, 'contains(bitchy)': False, 'contains(screenwriters)': False, 'contains(kristin)': False, 'contains(amundsen)': False, 'contains(hans)': False, 'contains(petter)': False, 'contains(moland)': False, 'contains(fabricate)': False, 'contains(series)': True, 'contains(contrivances)': False, 'contains(propel)': False, 'contains(forward)': False, 'contains(roving)': False, 'contains(hooligans)': False, 'contains(drunks)': False, 'contains(nosy)': False, 'contains(flat)': False, 'contains(tires)': False, 'contains(figure)': False, 'contains(schematic)': False, 'contains(convenient)': False, 'contains(narrative)': False, 'contains(reach)': False, 'contains(unveil)': False, 'contains(dark)': False, 'contains(past)': False, 'contains(simplistic)': False, 'contains(devices)': False, 'contains(trivialize)': False, 'contains(conflict)': False, 'contains(mainstays)': False, 'contains(wannabe)': False, 'contains(exists)': False, 'contains(purely)': False, 'contains(sake)': False, 'contains(weak)': False, 'contains(unimaginative)': False, 'contains(casting)': False, 'contains(thwarts)': False, 'contains(pivotal)': False, 'contains(role)': False, 'contains(were)': False, 'contains(stronger)': False, 'contains(actress)': False, 'contains(perhaps)': False, 'contains(coast)': True, 'contains(performances)': False, 'contains(moody)': False, 'contains(haunting)': False, 'contains(cinematography)': False, 'contains(rendering)': False, 'contains(pastoral)': False, 'contains(ghost)': False, 'contains(reference)': False, 'contains(certain)': False, 'contains(superior)': False, 'contains(indie)': False, 'contains(intentional)': False, 'contains(busy)': False, 'contains(using)': False, 'contains(furrowed)': False, 'contains(brow)': False, 'contains(convey)': False, 'contains(twitch)': False, 'contains(insouciance)': False, 'contains(paying)': False, 'contains(attention)': False, 'contains(maybe)': False, 'contains(doing)': False, 'contains(reveal)': False, 'contains(worthwhile)': False, 'contains(earlier)': False, 'contains(released)': False, 'contains(2001)': False, 'contains(jonathan)': False, 'contains(nossiter)': False, 'contains(captivating)': False, 'contains(wonders)': False, 'contains(disturbed)': False, 'contains(parental)': False, 'contains(figures)': False, 'contains(bound)': False, 'contains(ceremonial)': False, 'contains(wedlock)': False, 'contains(differences)': False, 'contains(presented)': False, 'contains(significant)': False, 'contains(luminous)': False, 'contains(diva)': False, 'contains(preening)': False, 'contains(static)': False, 'contains(solid)': False, 'contains(performance)': False, 'contains(pathetic)': False, 'contains(drunk)': False, 'contains(emote)': False, 'contains(besides)': False, 'contains(catatonic)': False, 'contains(sorrow)': False, 'contains(genuine)': False, 'contains(ferocity)': False, 'contains(sexually)': False, 'contains(charged)': False, 'contains(frisson)': False, 'contains(during)': False, 'contains(understated)': False, 'contains(confrontations)': False, 'contains(suggest)': False, 'contains(gray)': False, 'contains(zone)': False, 'contains(complications)': False, 'contains(accompany)': False, 'contains(torn)': False, 'contains(romance)': False, 'contains(stifled)': False, 'contains(curiosity)': False, 'contains(thoroughly)': False, 'contains(explores)': False, 'contains(neurotic)': False, 'contains(territory)': False, 'contains(delving)': False, 'contains(americanization)': False, 'contains(greece)': False, 'contains(mysticism)': False, 'contains(illusion)': False, 'contains(deflect)': False, 'contains(pain)': False, 'contains(overloaded)': False, 'contains(willing)': False, 'contains(come)': False, 'contains(traditional)': False, 'contains(ambitious)': False, 'contains(sleepwalk)': False, 'contains(rhythms)': False, 'contains(timing)': False, 'contains(driven)': False, 'contains(stories)': False, 'contains(complexities)': False, 'contains(depressing)': False, 'contains(answer)': False, 'contains(lawrence)': False, 'contains(kasdan)': False, 'contains(trite)': False, 'contains(useful)': False, 'contains(grand)': False, 'contains(canyon)': False, 'contains(steve)': False, 'contains(martin)': False, 'contains(mogul)': False, 'contains(pronounces)': False, 'contains(riddles)': False, 'contains(answered)': False, 'contains(advice)': False, 'contains(heart)': False, 'contains(french)': False, 'contains(sees)': True, 'contains(parents)': False, 'contains(tim)': False, 'contains(roth)': False, 'contains(oops)': False, 'contains(vows)': False, 'contains(taught)': False, 'contains(musketeer)': False, 'contains(dude)': False, 'contains(used)': True, 'contains(fourteen)': False, 'contains(arrgh)': False, 'contains(swish)': False, 'contains(zzzzzzz)': False, 'contains(original)': False, 'contains(lacks)': False, 'contains(energy)': False, 'contains(next)': False, 'contains(hmmmm)': False, 'contains(justin)': False, 'contains(chambers)': False, 'contains(basically)': False, 'contains(uncharismatic)': False, 'contains(version)': False, 'contains(chris)': False, 'contains(o)': False, 'contains(donnell)': False, 'contains(range)': False, 'contains(mena)': False, 'contains(suvari)': False, 'contains(thora)': False, 'contains(birch)': False, 'contains(dungeons)': False, 'contains(dragons)': False, 'contains(miscast)': False, 'contains(deliveries)': False, 'contains(piss)': False, 'contains(poor)': False, 'contains(ms)': False, 'contains(fault)': False, 'contains(definitely)': False, 'contains(higher)': False, 'contains(semi)': False, 'contains(saving)': False, 'contains(grace)': False, 'contains(wise)': False, 'contains(irrepressible)': False, 'contains(once)': True, 'contains(thousand)': False, 'contains(god)': False, 'contains(beg)': False, 'contains(agent)': False, 'contains(marketplace)': False, 'contains(modern)': False, 'contains(day)': True, 'contains(roles)': False, 'contains(romantic)': False, 'contains(gunk)': False, 'contains(alright)': False, 'contains(yeah)': False, 'contains(yikes)': False, 'contains(notches)': False, 'contains(fellas)': False, 'contains(blares)': False, 'contains(ear)': False, 'contains(accentuate)': False, 'contains(annoy)': False, 'contains(important)': False, 'contains(behind)': False, 'contains(recognize)': False, 'contains(epic)': False, 'contains(fluffy)': False, 'contains(rehashed)': False, 'contains(cake)': False, 'contains(created)': False, 'contains(shrewd)': False, 'contains(advantage)': False, 'contains(kung)': True, 'contains(fu)': True, 'contains(phenomenon)': False, 'contains(test)': False, 'contains(dudes)': False, 'contains(keep)': False, 'contains(reading)': False, 'contains(editing)': False, 'contains(shoddy)': False, 'contains(banal)': False, 'contains(stilted)': False, 'contains(plentiful)': False, 'contains(top)': True, 'contains(horse)': False, 'contains(carriage)': False, 'contains(stand)': False, 'contains(opponent)': False, 'contains(scampering)': False, 'contains(cut)': False, 'contains(mouseketeer)': False, 'contains(rope)': False, 'contains(tower)': False, 'contains(jumping)': False, 'contains(chords)': False, 'contains(hanging)': False, 'contains(says)': False, 'contains(14)': False, 'contains(shirt)': False, 'contains(strayed)': False, 'contains(championing)': False, 'contains(fun)': True, 'contains(stretches)': False, 'contains(atrocious)': False, 'contains(lake)': False, 'contains(reminded)': False, 'contains(school)': False, 'contains(cringe)': False, 'contains(musketeers)': False, 'contains(fat)': False, 'contains(raison)': False, 'contains(etre)': False, 'contains(numbers)': False, 'contains(hoping)': False, 'contains(packed)': False, 'contains(stuntwork)': False, 'contains(promoted)': False, 'contains(trailer)': False, 'contains(major)': False, 'contains(swashbuckling)': False, 'contains(beginning)': False, 'contains(finishes)': False, 'contains(juggling)': False, 'contains(ladders)': False, 'contains(ladder)': True, 'contains(definite)': False, 'contains(keeper)': False, 'contains(regurgitated)': False, 'contains(crap)': False, 'contains(tell)': False, 'contains(deneuve)': False, 'contains(placed)': False, 'contains(hullo)': False, 'contains(barely)': False, 'contains(ugh)': False, 'contains(small)': False, 'contains(annoyed)': False, 'contains(trash)': False, 'contains(gang)': False, 'contains(vow)': False, 'contains(stay)': False, 'contains(thank)': False, 'contains(outlaws)': False, 'contains(5)': False, 'contains(crouching)': False, 'contains(tiger)': False, 'contains(hidden)': False, 'contains(matrix)': False, 'contains(replacement)': False, 'contains(killers)': False, 'contains(6)': False, 'contains(romeo)': False, 'contains(die)': False, 'contains(shanghai)': False, 'contains(noon)': False, 'contains(remembered)': False, 'contains(dr)': False, 'contains(hannibal)': False, 'contains(lecter)': False, 'contains(michael)': False, 'contains(mann)': False, 'contains(forensics)': False, 'contains(thriller)': False, 'contains(manhunter)': False, 'contains(scottish)': False, 'contains(brian)': False, 'contains(cox)': False}\n"
     ]
    }
   ],
   "source": [
    "print(document_features(movie_reviews.words('pos/cv957_8737.txt'))) "
   ]
  },
  {
   "cell_type": "markdown",
   "metadata": {},
   "source": [
    "#### Now that we've defined our feature extractor, we can use it to train a classifier to label new movie reviews . To check how reliable the resulting classifier is, we compute its accuracy on the test set [1]. And once again, we can use show_most_informative_features() to find out which features the classifier found to be most informative"
   ]
  },
  {
   "cell_type": "code",
   "execution_count": 65,
   "metadata": {},
   "outputs": [],
   "source": [
    "featuresets = [(document_features(d), c) for (d,c) in documents]"
   ]
  },
  {
   "cell_type": "code",
   "execution_count": 66,
   "metadata": {},
   "outputs": [],
   "source": [
    "train_set, test_set = featuresets[100:], featuresets[:100]"
   ]
  },
  {
   "cell_type": "code",
   "execution_count": 67,
   "metadata": {},
   "outputs": [],
   "source": [
    "classifier = nltk.NaiveBayesClassifier.train(train_set)"
   ]
  },
  {
   "cell_type": "code",
   "execution_count": 68,
   "metadata": {},
   "outputs": [
    {
     "name": "stdout",
     "output_type": "stream",
     "text": [
      "0.87\n"
     ]
    }
   ],
   "source": [
    "print(nltk.classify.accuracy(classifier, test_set)) #1"
   ]
  },
  {
   "cell_type": "code",
   "execution_count": 69,
   "metadata": {},
   "outputs": [
    {
     "name": "stdout",
     "output_type": "stream",
     "text": [
      "Most Informative Features\n",
      "        contains(turkey) = True              neg : pos    =      8.8 : 1.0\n",
      " contains(unimaginative) = True              neg : pos    =      8.4 : 1.0\n",
      "    contains(schumacher) = True              neg : pos    =      7.0 : 1.0\n",
      "        contains(suvari) = True              neg : pos    =      7.0 : 1.0\n",
      "          contains(mena) = True              neg : pos    =      7.0 : 1.0\n"
     ]
    }
   ],
   "source": [
    "classifier.show_most_informative_features(5)"
   ]
  },
  {
   "cell_type": "markdown",
   "metadata": {},
   "source": [
    "### Exercise 3. Use this classifer to classify a new text (e.g. customer reviews) of your own choosing."
   ]
  },
  {
   "cell_type": "code",
   "execution_count": 75,
   "metadata": {},
   "outputs": [],
   "source": [
    "doc = nltk.word_tokenize(\"Unfortunately I couldn't try the lava cake since it's only available for dinner menu.\")"
   ]
  },
  {
   "cell_type": "code",
   "execution_count": 76,
   "metadata": {},
   "outputs": [
    {
     "data": {
      "text/plain": [
       "'neg'"
      ]
     },
     "execution_count": 76,
     "metadata": {},
     "output_type": "execute_result"
    }
   ],
   "source": [
    "classifier.classify(document_features(doc))"
   ]
  },
  {
   "cell_type": "markdown",
   "metadata": {},
   "source": [
    "### 1.4   Part-of-Speech Tagging"
   ]
  },
  {
   "cell_type": "markdown",
   "metadata": {},
   "source": [
    "#### In Chapter 5. we built a regular expression tagger that chooses a part-of-speech tag for a word by looking at the internal make-up of the word. However, this regular expression tagger had to be hand-crafted. Instead, we can train a classifier to work out which suffixes are most informative. Let's begin by finding out what the most common suffixes are:"
   ]
  },
  {
   "cell_type": "code",
   "execution_count": 77,
   "metadata": {},
   "outputs": [],
   "source": [
    "from nltk.corpus import brown"
   ]
  },
  {
   "cell_type": "code",
   "execution_count": 78,
   "metadata": {},
   "outputs": [],
   "source": [
    "suffix_fdist = nltk.FreqDist()"
   ]
  },
  {
   "cell_type": "code",
   "execution_count": 79,
   "metadata": {},
   "outputs": [],
   "source": [
    "for word in brown.words():\n",
    "    word = word.lower()\n",
    "    suffix_fdist[word[-1:]] += 1\n",
    "    suffix_fdist[word[-2:]] += 1\n",
    "    suffix_fdist[word[-3:]] += 1"
   ]
  },
  {
   "cell_type": "code",
   "execution_count": 80,
   "metadata": {},
   "outputs": [],
   "source": [
    "common_suffixes = [suffix for (suffix, count) in suffix_fdist.most_common(100)]"
   ]
  },
  {
   "cell_type": "code",
   "execution_count": 81,
   "metadata": {},
   "outputs": [
    {
     "name": "stdout",
     "output_type": "stream",
     "text": [
      "['e', ',', '.', 's', 'd', 't', 'he', 'n', 'a', 'of', 'the', 'y', 'r', 'to', 'in', 'f', 'o', 'ed', 'nd', 'is', 'on', 'l', 'g', 'and', 'ng', 'er', 'as', 'ing', 'h', 'at', 'es', 'or', 're', 'it', '``', 'an', \"''\", 'm', ';', 'i', 'ly', 'ion', 'en', 'al', '?', 'nt', 'be', 'hat', 'st', 'his', 'th', 'll', 'le', 'ce', 'by', 'ts', 'me', 've', \"'\", 'se', 'ut', 'was', 'for', 'ent', 'ch', 'k', 'w', 'ld', '`', 'rs', 'ted', 'ere', 'her', 'ne', 'ns', 'ith', 'ad', 'ry', ')', '(', 'te', '--', 'ay', 'ty', 'ot', 'p', 'nce', \"'s\", 'ter', 'om', 'ss', ':', 'we', 'are', 'c', 'ers', 'uld', 'had', 'so', 'ey']\n"
     ]
    }
   ],
   "source": [
    "print(common_suffixes)"
   ]
  },
  {
   "cell_type": "markdown",
   "metadata": {},
   "source": [
    "#### Next, we'll define a feature extractor function which checks a given word for these suffixes:"
   ]
  },
  {
   "cell_type": "code",
   "execution_count": 82,
   "metadata": {},
   "outputs": [],
   "source": [
    "def pos_features(word):\n",
    "    features = {}\n",
    "    for suffix in common_suffixes:\n",
    "        features['endswith({})'.format(suffix)] = word.lower().endswith(suffix)\n",
    "    return features"
   ]
  },
  {
   "cell_type": "code",
   "execution_count": 83,
   "metadata": {
    "scrolled": true
   },
   "outputs": [
    {
     "name": "stdout",
     "output_type": "stream",
     "text": [
      "{'endswith(e)': False, 'endswith(,)': False, 'endswith(.)': False, 'endswith(s)': False, 'endswith(d)': True, 'endswith(t)': False, 'endswith(he)': False, 'endswith(n)': False, 'endswith(a)': False, 'endswith(of)': False, 'endswith(the)': False, 'endswith(y)': False, 'endswith(r)': False, 'endswith(to)': False, 'endswith(in)': False, 'endswith(f)': False, 'endswith(o)': False, 'endswith(ed)': True, 'endswith(nd)': False, 'endswith(is)': False, 'endswith(on)': False, 'endswith(l)': False, 'endswith(g)': False, 'endswith(and)': False, 'endswith(ng)': False, 'endswith(er)': False, 'endswith(as)': False, 'endswith(ing)': False, 'endswith(h)': False, 'endswith(at)': False, 'endswith(es)': False, 'endswith(or)': False, 'endswith(re)': False, 'endswith(it)': False, 'endswith(``)': False, 'endswith(an)': False, \"endswith('')\": False, 'endswith(m)': False, 'endswith(;)': False, 'endswith(i)': False, 'endswith(ly)': False, 'endswith(ion)': False, 'endswith(en)': False, 'endswith(al)': False, 'endswith(?)': False, 'endswith(nt)': False, 'endswith(be)': False, 'endswith(hat)': False, 'endswith(st)': False, 'endswith(his)': False, 'endswith(th)': False, 'endswith(ll)': False, 'endswith(le)': False, 'endswith(ce)': False, 'endswith(by)': False, 'endswith(ts)': False, 'endswith(me)': False, 'endswith(ve)': False, \"endswith(')\": False, 'endswith(se)': False, 'endswith(ut)': False, 'endswith(was)': False, 'endswith(for)': False, 'endswith(ent)': False, 'endswith(ch)': False, 'endswith(k)': False, 'endswith(w)': False, 'endswith(ld)': False, 'endswith(`)': False, 'endswith(rs)': False, 'endswith(ted)': True, 'endswith(ere)': False, 'endswith(her)': False, 'endswith(ne)': False, 'endswith(ns)': False, 'endswith(ith)': False, 'endswith(ad)': False, 'endswith(ry)': False, 'endswith())': False, 'endswith(()': False, 'endswith(te)': False, 'endswith(--)': False, 'endswith(ay)': False, 'endswith(ty)': False, 'endswith(ot)': False, 'endswith(p)': False, 'endswith(nce)': False, \"endswith('s)\": False, 'endswith(ter)': False, 'endswith(om)': False, 'endswith(ss)': False, 'endswith(:)': False, 'endswith(we)': False, 'endswith(are)': False, 'endswith(c)': False, 'endswith(ers)': False, 'endswith(uld)': False, 'endswith(had)': False, 'endswith(so)': False, 'endswith(ey)': False}\n"
     ]
    }
   ],
   "source": [
    "print (pos_features(\"visited\"))"
   ]
  },
  {
   "cell_type": "markdown",
   "metadata": {},
   "source": [
    "#### Now that we've defined our feature extractor, we can use it to train a classifier. For decision tree classifer, please use nltk.DecisionTreeClassifier."
   ]
  },
  {
   "cell_type": "code",
   "execution_count": 84,
   "metadata": {},
   "outputs": [],
   "source": [
    "tagged_words = brown.tagged_words(categories='news')"
   ]
  },
  {
   "cell_type": "code",
   "execution_count": 85,
   "metadata": {},
   "outputs": [],
   "source": [
    "featuresets = [(pos_features(n), g) for (n,g) in tagged_words]"
   ]
  },
  {
   "cell_type": "code",
   "execution_count": 86,
   "metadata": {},
   "outputs": [],
   "source": [
    "size = int(len(featuresets) * 0.1)"
   ]
  },
  {
   "cell_type": "code",
   "execution_count": 87,
   "metadata": {},
   "outputs": [],
   "source": [
    "train_set, test_set = featuresets[size:], featuresets[:size]"
   ]
  },
  {
   "cell_type": "code",
   "execution_count": 88,
   "metadata": {},
   "outputs": [],
   "source": [
    "classifier=nltk.NaiveBayesClassifier.train(train_set)"
   ]
  },
  {
   "cell_type": "code",
   "execution_count": 89,
   "metadata": {},
   "outputs": [
    {
     "data": {
      "text/plain": [
       "'NNS'"
      ]
     },
     "execution_count": 89,
     "metadata": {},
     "output_type": "execute_result"
    }
   ],
   "source": [
    "classifier.classify(pos_features('cats'))"
   ]
  },
  {
   "cell_type": "markdown",
   "metadata": {},
   "source": [
    "### Exercise 4: Use this classifier to classify a new word of your own choosing"
   ]
  },
  {
   "cell_type": "code",
   "execution_count": 90,
   "metadata": {},
   "outputs": [
    {
     "data": {
      "text/plain": [
       "'VBG'"
      ]
     },
     "execution_count": 90,
     "metadata": {},
     "output_type": "execute_result"
    }
   ],
   "source": [
    "classifier.classify(pos_features('studying'))"
   ]
  },
  {
   "cell_type": "code",
   "execution_count": 91,
   "metadata": {},
   "outputs": [
    {
     "data": {
      "text/plain": [
       "'AT'"
      ]
     },
     "execution_count": 91,
     "metadata": {},
     "output_type": "execute_result"
    }
   ],
   "source": [
    "classifier.classify(pos_features('the'))"
   ]
  },
  {
   "cell_type": "code",
   "execution_count": 92,
   "metadata": {},
   "outputs": [
    {
     "data": {
      "text/plain": [
       "'PP$'"
      ]
     },
     "execution_count": 92,
     "metadata": {},
     "output_type": "execute_result"
    }
   ],
   "source": [
    "classifier.classify(pos_features('his'))"
   ]
  },
  {
   "cell_type": "markdown",
   "metadata": {},
   "source": [
    "### 1.5   Exploiting Context"
   ]
  },
  {
   "cell_type": "markdown",
   "metadata": {},
   "source": [
    "#### By augmenting the feature extraction function, we could modify this part-of-speech tagger to leverage a variety of other word-internal features, such as the length of the word, the number of syllables it contains, or its prefix. However, as long as the feature extractor just looks at the target word, we have no way to add features that depend on the context that the word appears in. But contextual features often provide powerful clues about the correct tag — for example, when tagging the word \"fly,\" knowing that the previous word is \"a\" will allow us to determine that it is functioning as a noun, not a verb."
   ]
  },
  {
   "cell_type": "markdown",
   "metadata": {},
   "source": [
    "#### In order to accommodate features that depend on a word's context, we must revise the pattern that we used to define our feature extractor. Instead of just passing in the word to be tagged, we will pass in a complete (untagged) sentence, along with the index of the target word. ."
   ]
  },
  {
   "cell_type": "code",
   "execution_count": 93,
   "metadata": {},
   "outputs": [],
   "source": [
    "def pos_features(sentence, i): #1\n",
    "    features = {\"suffix(1)\": sentence[i][-1:],\n",
    "                \"suffix(2)\": sentence[i][-2:],\n",
    "                \"suffix(3)\": sentence[i][-3:]}\n",
    "    if i == 0:\n",
    "        features[\"prev-word\"] = \"<START>\"\n",
    "    else:\n",
    "        features[\"prev-word\"] = sentence[i-1]\n",
    "    return features"
   ]
  },
  {
   "cell_type": "code",
   "execution_count": 94,
   "metadata": {},
   "outputs": [
    {
     "data": {
      "text/plain": [
       "['The',\n",
       " 'Fulton',\n",
       " 'County',\n",
       " 'Grand',\n",
       " 'Jury',\n",
       " 'said',\n",
       " 'Friday',\n",
       " 'an',\n",
       " 'investigation',\n",
       " 'of',\n",
       " \"Atlanta's\",\n",
       " 'recent',\n",
       " 'primary',\n",
       " 'election',\n",
       " 'produced',\n",
       " '``',\n",
       " 'no',\n",
       " 'evidence',\n",
       " \"''\",\n",
       " 'that',\n",
       " 'any',\n",
       " 'irregularities',\n",
       " 'took',\n",
       " 'place',\n",
       " '.']"
      ]
     },
     "execution_count": 94,
     "metadata": {},
     "output_type": "execute_result"
    }
   ],
   "source": [
    "brown.sents()[0]"
   ]
  },
  {
   "cell_type": "code",
   "execution_count": 95,
   "metadata": {},
   "outputs": [
    {
     "data": {
      "text/plain": [
       "{'suffix(1)': 'n', 'suffix(2)': 'on', 'suffix(3)': 'ion', 'prev-word': 'an'}"
      ]
     },
     "execution_count": 95,
     "metadata": {},
     "output_type": "execute_result"
    }
   ],
   "source": [
    "pos_features(brown.sents()[0], 8)"
   ]
  },
  {
   "cell_type": "code",
   "execution_count": 96,
   "metadata": {},
   "outputs": [],
   "source": [
    "tagged_sents = brown.tagged_sents(categories='news')"
   ]
  },
  {
   "cell_type": "code",
   "execution_count": 97,
   "metadata": {},
   "outputs": [],
   "source": [
    "featuresets = []"
   ]
  },
  {
   "cell_type": "code",
   "execution_count": 98,
   "metadata": {},
   "outputs": [],
   "source": [
    "for tagged_sent in tagged_sents:\n",
    "    untagged_sent = nltk.tag.untag(tagged_sent)\n",
    "    for i, (word, tag) in enumerate(tagged_sent):\n",
    "        featuresets.append( (pos_features(untagged_sent, i), tag) )\n"
   ]
  },
  {
   "cell_type": "markdown",
   "metadata": {},
   "source": [
    "#### Given a tagged sentence, return an untagged version of that sentence. I.e., return a list containing the first element of each tuple in tagged_sentence."
   ]
  },
  {
   "cell_type": "code",
   "execution_count": 99,
   "metadata": {},
   "outputs": [
    {
     "data": {
      "text/plain": [
       "['John', 'saw', 'Mary']"
      ]
     },
     "execution_count": 99,
     "metadata": {},
     "output_type": "execute_result"
    }
   ],
   "source": [
    "nltk.tag.untag([('John', 'NNP'), ('saw', 'VBD'), ('Mary', 'NNP')])"
   ]
  },
  {
   "cell_type": "code",
   "execution_count": 100,
   "metadata": {},
   "outputs": [],
   "source": [
    "size = int(len(featuresets) * 0.1)"
   ]
  },
  {
   "cell_type": "code",
   "execution_count": 101,
   "metadata": {},
   "outputs": [],
   "source": [
    "train_set, test_set = featuresets[size:], featuresets[:size]"
   ]
  },
  {
   "cell_type": "code",
   "execution_count": 102,
   "metadata": {},
   "outputs": [],
   "source": [
    "classifier = nltk.NaiveBayesClassifier.train(train_set)"
   ]
  },
  {
   "cell_type": "code",
   "execution_count": 103,
   "metadata": {},
   "outputs": [
    {
     "data": {
      "text/plain": [
       "0.7891596220785678"
      ]
     },
     "execution_count": 103,
     "metadata": {},
     "output_type": "execute_result"
    }
   ],
   "source": [
    "nltk.classify.accuracy(classifier, test_set)"
   ]
  },
  {
   "cell_type": "code",
   "execution_count": null,
   "metadata": {},
   "outputs": [],
   "source": []
  },
  {
   "cell_type": "markdown",
   "metadata": {},
   "source": [
    "### 1.6   Sequence Classification"
   ]
  },
  {
   "cell_type": "markdown",
   "metadata": {},
   "source": [
    "#### One sequence classification strategy, known as consecutive classification or greedy sequence classification, is to find the most likely class label for the first input, then to use that answer to help find the best label for the next input. The process can then be repeated until all of the inputs have been labeled. This is the approach that was taken by the bigram tagger from 5, which began by choosing a part-of-speech tag for the first word in the sentence, and then chose the tag for each subsequent word based on the word itself and the predicted tag for the previous word."
   ]
  },
  {
   "cell_type": "markdown",
   "metadata": {},
   "source": [
    "####  First, we must augment our feature extractor function to take a history argument, which provides a list of the tags that we've predicted for the sentence so far [1]. Each tag in history corresponds with a word in sentence. But note that history will only contain tags for words we've already classified, that is, words to the left of the target word. "
   ]
  },
  {
   "cell_type": "markdown",
   "metadata": {},
   "source": [
    "#### Having defined a feature extractor, we can proceed to build our sequence classifier [2]. During training, we use the annotated tags to provide the appropriate history to the feature extractor, but when tagging new sentences, we generate the history list based on the output of the tagger itself."
   ]
  },
  {
   "cell_type": "code",
   "execution_count": 104,
   "metadata": {},
   "outputs": [],
   "source": [
    "def pos_features(sentence, i, history): #1\n",
    "     features = {\"suffix(1)\": sentence[i][-1:],\n",
    "                 \"suffix(2)\": sentence[i][-2:],\n",
    "                 \"suffix(3)\": sentence[i][-3:]}\n",
    "     if i == 0:\n",
    "         features[\"prev-word\"] = \"<START>\"\n",
    "         features[\"prev-tag\"] = \"<START>\"\n",
    "     else:\n",
    "         features[\"prev-word\"] = sentence[i-1]\n",
    "         features[\"prev-tag\"] = history[i-1]\n",
    "     return features\n",
    "\n",
    "class ConsecutivePosTagger(nltk.TaggerI): #2\n",
    "\n",
    "    def __init__(self, train_sents):\n",
    "        train_set = []\n",
    "        for tagged_sent in train_sents:\n",
    "            untagged_sent = nltk.tag.untag(tagged_sent)\n",
    "            history = []\n",
    "            for i, (word, tag) in enumerate(tagged_sent):\n",
    "                featureset = pos_features(untagged_sent, i, history)\n",
    "                train_set.append( (featureset, tag) )\n",
    "                history.append(tag)\n",
    "        self.classifier = nltk.NaiveBayesClassifier.train(train_set)\n",
    "\n",
    "    def tag(self, sentence):\n",
    "        history = []\n",
    "        for i, word in enumerate(sentence):\n",
    "            featureset = pos_features(sentence, i, history)\n",
    "            tag = self.classifier.classify(featureset)\n",
    "            history.append(tag)\n",
    "        return zip(sentence, history)"
   ]
  },
  {
   "cell_type": "code",
   "execution_count": 105,
   "metadata": {},
   "outputs": [],
   "source": [
    "tagged_sents = brown.tagged_sents(categories='news')"
   ]
  },
  {
   "cell_type": "code",
   "execution_count": 106,
   "metadata": {},
   "outputs": [],
   "source": [
    "size = int(len(tagged_sents) * 0.1)"
   ]
  },
  {
   "cell_type": "code",
   "execution_count": 107,
   "metadata": {},
   "outputs": [],
   "source": [
    "train_sents, test_sents = tagged_sents[size:], tagged_sents[:size]"
   ]
  },
  {
   "cell_type": "code",
   "execution_count": 108,
   "metadata": {},
   "outputs": [],
   "source": [
    "tagger = ConsecutivePosTagger(train_sents)"
   ]
  },
  {
   "cell_type": "code",
   "execution_count": 109,
   "metadata": {},
   "outputs": [
    {
     "name": "stdout",
     "output_type": "stream",
     "text": [
      "0.7980528511821975\n"
     ]
    }
   ],
   "source": [
    "print(tagger.evaluate(test_sents))"
   ]
  },
  {
   "cell_type": "markdown",
   "metadata": {},
   "source": [
    "### Exercise 5. Use this classifier to tag a new sentence of your own choosing."
   ]
  },
  {
   "cell_type": "code",
   "execution_count": 110,
   "metadata": {},
   "outputs": [
    {
     "name": "stdout",
     "output_type": "stream",
     "text": [
      "[('This', 'DT'), ('is', 'BEZ'), ('nice', 'NN'), ('weather', 'AP'), ('do', 'DO'), ('go', 'VB'), ('out', 'RP'), ('for', 'IN'), ('hiking', 'VBG')]\n"
     ]
    }
   ],
   "source": [
    "print(list(tagger.tag(['This','is','nice','weather','do','go','out','for','hiking'])))"
   ]
  },
  {
   "cell_type": "code",
   "execution_count": null,
   "metadata": {},
   "outputs": [],
   "source": []
  },
  {
   "cell_type": "markdown",
   "metadata": {},
   "source": [
    "## 2   Further Examples of Supervised Classification"
   ]
  },
  {
   "cell_type": "markdown",
   "metadata": {},
   "source": [
    "### 2.1   Sentence Segmentation"
   ]
  },
  {
   "cell_type": "markdown",
   "metadata": {},
   "source": [
    "#### Sentence segmentation can be viewed as a classification task for punctuation: whenever we encounter a symbol that could possibly end a sentence, such as a period or a question mark, we have to decide whether it terminates the preceding sentence."
   ]
  },
  {
   "cell_type": "markdown",
   "metadata": {},
   "source": [
    "#### The first step is to obtain some data that has already been segmented into sentences and convert it into a form that is suitable for extracting features:"
   ]
  },
  {
   "cell_type": "code",
   "execution_count": 111,
   "metadata": {},
   "outputs": [],
   "source": [
    "import nltk"
   ]
  },
  {
   "cell_type": "code",
   "execution_count": 112,
   "metadata": {},
   "outputs": [],
   "source": [
    "sents = nltk.corpus.treebank_raw.sents()"
   ]
  },
  {
   "cell_type": "code",
   "execution_count": 113,
   "metadata": {},
   "outputs": [
    {
     "data": {
      "text/plain": [
       "['.', 'START']"
      ]
     },
     "execution_count": 113,
     "metadata": {},
     "output_type": "execute_result"
    }
   ],
   "source": [
    "sents[0]"
   ]
  },
  {
   "cell_type": "code",
   "execution_count": 114,
   "metadata": {},
   "outputs": [
    {
     "data": {
      "text/plain": [
       "['Pierre',\n",
       " 'Vinken',\n",
       " ',',\n",
       " '61',\n",
       " 'years',\n",
       " 'old',\n",
       " ',',\n",
       " 'will',\n",
       " 'join',\n",
       " 'the',\n",
       " 'board',\n",
       " 'as',\n",
       " 'a',\n",
       " 'nonexecutive',\n",
       " 'director',\n",
       " 'Nov',\n",
       " '.',\n",
       " '29',\n",
       " '.']"
      ]
     },
     "execution_count": 114,
     "metadata": {},
     "output_type": "execute_result"
    }
   ],
   "source": [
    "sents[1]"
   ]
  },
  {
   "cell_type": "code",
   "execution_count": 115,
   "metadata": {},
   "outputs": [],
   "source": [
    "tokens = []"
   ]
  },
  {
   "cell_type": "code",
   "execution_count": 116,
   "metadata": {},
   "outputs": [],
   "source": [
    "boundaries = set()"
   ]
  },
  {
   "cell_type": "code",
   "execution_count": 117,
   "metadata": {},
   "outputs": [],
   "source": [
    "offset = 0"
   ]
  },
  {
   "cell_type": "markdown",
   "metadata": {},
   "source": [
    "#### When append() method adds its argument as a single element to the end of a list, the length of the list itself will increase by one. Whereas extend() method iterates over its argument adding each element to the list, extending the list."
   ]
  },
  {
   "cell_type": "code",
   "execution_count": 118,
   "metadata": {},
   "outputs": [],
   "source": [
    "for sent in sents:\n",
    "    tokens.extend(sent)\n",
    "    offset += len(sent)\n",
    "    boundaries.add(offset-1)"
   ]
  },
  {
   "cell_type": "code",
   "execution_count": 119,
   "metadata": {},
   "outputs": [
    {
     "data": {
      "text/plain": [
       "['.',\n",
       " 'START',\n",
       " 'Pierre',\n",
       " 'Vinken',\n",
       " ',',\n",
       " '61',\n",
       " 'years',\n",
       " 'old',\n",
       " ',',\n",
       " 'will',\n",
       " 'join',\n",
       " 'the',\n",
       " 'board',\n",
       " 'as',\n",
       " 'a',\n",
       " 'nonexecutive',\n",
       " 'director',\n",
       " 'Nov',\n",
       " '.',\n",
       " '29',\n",
       " '.',\n",
       " 'Mr',\n",
       " '.',\n",
       " 'Vinken',\n",
       " 'is',\n",
       " 'chairman',\n",
       " 'of',\n",
       " 'Elsevier',\n",
       " 'N',\n",
       " '.',\n",
       " 'V',\n",
       " '.,',\n",
       " 'the',\n",
       " 'Dutch',\n",
       " 'publishing',\n",
       " 'group',\n",
       " '.',\n",
       " '.',\n",
       " 'START',\n",
       " 'Rudolph',\n",
       " 'Agnew',\n",
       " ',',\n",
       " '55',\n",
       " 'years',\n",
       " 'old',\n",
       " 'and',\n",
       " 'former',\n",
       " 'chairman',\n",
       " 'of',\n",
       " 'Consolidated',\n",
       " 'Gold',\n",
       " 'Fields',\n",
       " 'PLC',\n",
       " ',',\n",
       " 'was',\n",
       " 'named',\n",
       " 'a',\n",
       " 'nonexecutive',\n",
       " 'director',\n",
       " 'of',\n",
       " 'this',\n",
       " 'British',\n",
       " 'industrial',\n",
       " 'conglomerate',\n",
       " '.',\n",
       " '.',\n",
       " 'START',\n",
       " 'A',\n",
       " 'form',\n",
       " 'of',\n",
       " 'asbestos',\n",
       " 'once',\n",
       " 'used',\n",
       " 'to',\n",
       " 'make',\n",
       " 'Kent',\n",
       " 'cigarette',\n",
       " 'filters',\n",
       " 'has',\n",
       " 'caused',\n",
       " 'a',\n",
       " 'high',\n",
       " 'percentage',\n",
       " 'of',\n",
       " 'cancer',\n",
       " 'deaths',\n",
       " 'among',\n",
       " 'a',\n",
       " 'group',\n",
       " 'of',\n",
       " 'workers',\n",
       " 'exposed',\n",
       " 'to',\n",
       " 'it',\n",
       " 'more',\n",
       " 'than',\n",
       " '30',\n",
       " 'years',\n",
       " 'ago',\n",
       " ',',\n",
       " 'researchers',\n",
       " 'reported',\n",
       " '.',\n",
       " 'The',\n",
       " 'asbestos',\n",
       " 'fiber',\n",
       " ',',\n",
       " 'crocidolite',\n",
       " ',',\n",
       " 'is',\n",
       " 'unusually',\n",
       " 'resilient',\n",
       " 'once',\n",
       " 'it',\n",
       " 'enters',\n",
       " 'the',\n",
       " 'lungs',\n",
       " ',',\n",
       " 'with',\n",
       " 'even',\n",
       " 'brief',\n",
       " 'exposures',\n",
       " 'to',\n",
       " 'it',\n",
       " 'causing',\n",
       " 'symptoms',\n",
       " 'that',\n",
       " 'show',\n",
       " 'up',\n",
       " 'decades',\n",
       " 'later',\n",
       " ',',\n",
       " 'researchers',\n",
       " 'said',\n",
       " '.',\n",
       " 'Lorillard',\n",
       " 'Inc',\n",
       " '.,',\n",
       " 'the',\n",
       " 'unit',\n",
       " 'of',\n",
       " 'New',\n",
       " 'York',\n",
       " '-',\n",
       " 'based',\n",
       " 'Loews',\n",
       " 'Corp',\n",
       " '.',\n",
       " 'that',\n",
       " 'makes',\n",
       " 'Kent',\n",
       " 'cigarettes',\n",
       " ',',\n",
       " 'stopped',\n",
       " 'using',\n",
       " 'crocidolite',\n",
       " 'in',\n",
       " 'its',\n",
       " 'Micronite',\n",
       " 'cigarette',\n",
       " 'filters',\n",
       " 'in',\n",
       " '1956',\n",
       " '.',\n",
       " 'Although',\n",
       " 'preliminary',\n",
       " 'findings',\n",
       " 'were',\n",
       " 'reported',\n",
       " 'more',\n",
       " 'than',\n",
       " 'a',\n",
       " 'year',\n",
       " 'ago',\n",
       " ',',\n",
       " 'the',\n",
       " 'latest',\n",
       " 'results',\n",
       " 'appear',\n",
       " 'in',\n",
       " 'today',\n",
       " \"'\",\n",
       " 's',\n",
       " 'New',\n",
       " 'England',\n",
       " 'Journal',\n",
       " 'of',\n",
       " 'Medicine',\n",
       " ',',\n",
       " 'a',\n",
       " 'forum',\n",
       " 'likely',\n",
       " 'to',\n",
       " 'bring',\n",
       " 'new',\n",
       " 'attention',\n",
       " 'to',\n",
       " 'the',\n",
       " 'problem',\n",
       " '.',\n",
       " 'A',\n",
       " 'Lorillard',\n",
       " 'spokewoman',\n",
       " 'said',\n",
       " ',',\n",
       " '\"',\n",
       " 'This',\n",
       " 'is',\n",
       " 'an',\n",
       " 'old',\n",
       " 'story',\n",
       " '.',\n",
       " 'We',\n",
       " \"'\",\n",
       " 're',\n",
       " 'talking',\n",
       " 'about',\n",
       " 'years',\n",
       " 'ago',\n",
       " 'before',\n",
       " 'anyone',\n",
       " 'heard',\n",
       " 'of',\n",
       " 'asbestos',\n",
       " 'having',\n",
       " 'any',\n",
       " 'questionable',\n",
       " 'properties',\n",
       " '.',\n",
       " 'There',\n",
       " 'is',\n",
       " 'no',\n",
       " 'asbestos',\n",
       " 'in',\n",
       " 'our',\n",
       " 'products',\n",
       " 'now',\n",
       " '.\"',\n",
       " 'Neither',\n",
       " 'Lorillard',\n",
       " 'nor',\n",
       " 'the',\n",
       " 'researchers',\n",
       " 'who',\n",
       " 'studied',\n",
       " 'the',\n",
       " 'workers',\n",
       " 'were',\n",
       " 'aware',\n",
       " 'of',\n",
       " 'any',\n",
       " 'research',\n",
       " 'on',\n",
       " 'smokers',\n",
       " 'of',\n",
       " 'the',\n",
       " 'Kent',\n",
       " 'cigarettes',\n",
       " '.',\n",
       " '\"',\n",
       " 'We',\n",
       " 'have',\n",
       " 'no',\n",
       " 'useful',\n",
       " 'information',\n",
       " 'on',\n",
       " 'whether',\n",
       " 'users',\n",
       " 'are',\n",
       " 'at',\n",
       " 'risk',\n",
       " ',\"',\n",
       " 'said',\n",
       " 'James',\n",
       " 'A',\n",
       " '.',\n",
       " 'Talcott',\n",
       " 'of',\n",
       " 'Boston',\n",
       " \"'\",\n",
       " 's',\n",
       " 'Dana',\n",
       " '-',\n",
       " 'Farber',\n",
       " 'Cancer',\n",
       " 'Institute',\n",
       " '.',\n",
       " 'Dr',\n",
       " '.',\n",
       " 'Talcott',\n",
       " 'led',\n",
       " 'a',\n",
       " 'team',\n",
       " 'of',\n",
       " 'researchers',\n",
       " 'from',\n",
       " 'the',\n",
       " 'National',\n",
       " 'Cancer',\n",
       " 'Institute',\n",
       " 'and',\n",
       " 'the',\n",
       " 'medical',\n",
       " 'schools',\n",
       " 'of',\n",
       " 'Harvard',\n",
       " 'University',\n",
       " 'and',\n",
       " 'Boston',\n",
       " 'University',\n",
       " '.',\n",
       " 'The',\n",
       " 'Lorillard',\n",
       " 'spokeswoman',\n",
       " 'said',\n",
       " 'asbestos',\n",
       " 'was',\n",
       " 'used',\n",
       " 'in',\n",
       " '\"',\n",
       " 'very',\n",
       " 'modest',\n",
       " 'amounts',\n",
       " '\"',\n",
       " 'in',\n",
       " 'making',\n",
       " 'paper',\n",
       " 'for',\n",
       " 'the',\n",
       " 'filters',\n",
       " 'in',\n",
       " 'the',\n",
       " 'early',\n",
       " '1950s',\n",
       " 'and',\n",
       " 'replaced',\n",
       " 'with',\n",
       " 'a',\n",
       " 'different',\n",
       " 'type',\n",
       " 'of',\n",
       " 'filter',\n",
       " 'in',\n",
       " '1956',\n",
       " '.',\n",
       " 'From',\n",
       " '1953',\n",
       " 'to',\n",
       " '1955',\n",
       " ',',\n",
       " '9',\n",
       " '.',\n",
       " '8',\n",
       " 'billion',\n",
       " 'Kent',\n",
       " 'cigarettes',\n",
       " 'with',\n",
       " 'the',\n",
       " 'filters',\n",
       " 'were',\n",
       " 'sold',\n",
       " ',',\n",
       " 'the',\n",
       " 'company',\n",
       " 'said',\n",
       " '.',\n",
       " 'Among',\n",
       " '33',\n",
       " 'men',\n",
       " 'who',\n",
       " 'worked',\n",
       " 'closely',\n",
       " 'with',\n",
       " 'the',\n",
       " 'substance',\n",
       " ',',\n",
       " '28',\n",
       " 'have',\n",
       " 'died',\n",
       " '--',\n",
       " 'more',\n",
       " 'than',\n",
       " 'three',\n",
       " 'times',\n",
       " 'the',\n",
       " 'expected',\n",
       " 'number',\n",
       " '.',\n",
       " 'Four',\n",
       " 'of',\n",
       " 'the',\n",
       " 'five',\n",
       " 'surviving',\n",
       " 'workers',\n",
       " 'have',\n",
       " 'asbestos',\n",
       " '-',\n",
       " 'related',\n",
       " 'diseases',\n",
       " ',',\n",
       " 'including',\n",
       " 'three',\n",
       " 'with',\n",
       " 'recently',\n",
       " 'diagnosed',\n",
       " 'cancer',\n",
       " '.',\n",
       " 'The',\n",
       " 'total',\n",
       " 'of',\n",
       " '18',\n",
       " 'deaths',\n",
       " 'from',\n",
       " 'malignant',\n",
       " 'mesothelioma',\n",
       " ',',\n",
       " 'lung',\n",
       " 'cancer',\n",
       " 'and',\n",
       " 'asbestosis',\n",
       " 'was',\n",
       " 'far',\n",
       " 'higher',\n",
       " 'than',\n",
       " 'expected',\n",
       " ',',\n",
       " 'the',\n",
       " 'researchers',\n",
       " 'said',\n",
       " '.',\n",
       " '\"',\n",
       " 'The',\n",
       " 'morbidity',\n",
       " 'rate',\n",
       " 'is',\n",
       " 'a',\n",
       " 'striking',\n",
       " 'finding',\n",
       " 'among',\n",
       " 'those',\n",
       " 'of',\n",
       " 'us',\n",
       " 'who',\n",
       " 'study',\n",
       " 'asbestos',\n",
       " '-',\n",
       " 'related',\n",
       " 'diseases',\n",
       " ',\"',\n",
       " 'said',\n",
       " 'Dr',\n",
       " '.',\n",
       " 'Talcott',\n",
       " '.',\n",
       " 'The',\n",
       " 'percentage',\n",
       " 'of',\n",
       " 'lung',\n",
       " 'cancer',\n",
       " 'deaths',\n",
       " 'among',\n",
       " 'the',\n",
       " 'workers',\n",
       " 'at',\n",
       " 'the',\n",
       " 'West',\n",
       " 'Groton',\n",
       " ',',\n",
       " 'Mass',\n",
       " '.,',\n",
       " 'paper',\n",
       " 'factory',\n",
       " 'appears',\n",
       " 'to',\n",
       " 'be',\n",
       " 'the',\n",
       " 'highest',\n",
       " 'for',\n",
       " 'any',\n",
       " 'asbestos',\n",
       " 'workers',\n",
       " 'studied',\n",
       " 'in',\n",
       " 'Western',\n",
       " 'industrialized',\n",
       " 'countries',\n",
       " ',',\n",
       " 'he',\n",
       " 'said',\n",
       " '.',\n",
       " 'The',\n",
       " 'plant',\n",
       " ',',\n",
       " 'which',\n",
       " 'is',\n",
       " 'owned',\n",
       " 'by',\n",
       " 'Hollingsworth',\n",
       " '&',\n",
       " 'Vose',\n",
       " 'Co',\n",
       " '.,',\n",
       " 'was',\n",
       " 'under',\n",
       " 'contract',\n",
       " 'with',\n",
       " 'Lorillard',\n",
       " 'to',\n",
       " 'make',\n",
       " 'the',\n",
       " 'cigarette',\n",
       " 'filters',\n",
       " '.',\n",
       " 'The',\n",
       " 'finding',\n",
       " 'probably',\n",
       " 'will',\n",
       " 'support',\n",
       " 'those',\n",
       " 'who',\n",
       " 'argue',\n",
       " 'that',\n",
       " 'the',\n",
       " 'U',\n",
       " '.',\n",
       " 'S',\n",
       " '.',\n",
       " 'should',\n",
       " 'regulate',\n",
       " 'the',\n",
       " 'class',\n",
       " 'of',\n",
       " 'asbestos',\n",
       " 'including',\n",
       " 'crocidolite',\n",
       " 'more',\n",
       " 'stringently',\n",
       " 'than',\n",
       " 'the',\n",
       " 'common',\n",
       " 'kind',\n",
       " 'of',\n",
       " 'asbestos',\n",
       " ',',\n",
       " 'chrysotile',\n",
       " ',',\n",
       " 'found',\n",
       " 'in',\n",
       " 'most',\n",
       " 'schools',\n",
       " 'and',\n",
       " 'other',\n",
       " 'buildings',\n",
       " ',',\n",
       " 'Dr',\n",
       " '.',\n",
       " 'Talcott',\n",
       " 'said',\n",
       " '.',\n",
       " 'The',\n",
       " 'U',\n",
       " '.',\n",
       " 'S',\n",
       " '.',\n",
       " 'is',\n",
       " 'one',\n",
       " 'of',\n",
       " 'the',\n",
       " 'few',\n",
       " 'industrialized',\n",
       " 'nations',\n",
       " 'that',\n",
       " 'doesn',\n",
       " \"'\",\n",
       " 't',\n",
       " 'have',\n",
       " 'a',\n",
       " 'higher',\n",
       " 'standard',\n",
       " 'of',\n",
       " 'regulation',\n",
       " 'for',\n",
       " 'the',\n",
       " 'smooth',\n",
       " ',',\n",
       " 'needle',\n",
       " '-',\n",
       " 'like',\n",
       " 'fibers',\n",
       " 'such',\n",
       " 'as',\n",
       " 'crocidolite',\n",
       " 'that',\n",
       " 'are',\n",
       " 'classified',\n",
       " 'as',\n",
       " 'amphobiles',\n",
       " ',',\n",
       " 'according',\n",
       " 'to',\n",
       " 'Brooke',\n",
       " 'T',\n",
       " '.',\n",
       " 'Mossman',\n",
       " ',',\n",
       " 'a',\n",
       " 'professor',\n",
       " 'of',\n",
       " 'pathlogy',\n",
       " 'at',\n",
       " 'the',\n",
       " 'University',\n",
       " 'of',\n",
       " 'Vermont',\n",
       " 'College',\n",
       " 'of',\n",
       " 'Medicine',\n",
       " '.',\n",
       " 'More',\n",
       " 'common',\n",
       " 'chrysotile',\n",
       " 'fibers',\n",
       " 'are',\n",
       " 'curly',\n",
       " 'and',\n",
       " 'are',\n",
       " 'more',\n",
       " 'easily',\n",
       " 'rejected',\n",
       " 'by',\n",
       " 'the',\n",
       " 'body',\n",
       " ',',\n",
       " 'Dr',\n",
       " '.',\n",
       " 'Mossman',\n",
       " 'explained',\n",
       " '.',\n",
       " 'In',\n",
       " 'July',\n",
       " ',',\n",
       " 'the',\n",
       " 'Environmental',\n",
       " 'Protection',\n",
       " 'Agency',\n",
       " 'imposed',\n",
       " 'a',\n",
       " 'gradual',\n",
       " 'ban',\n",
       " 'on',\n",
       " 'virtually',\n",
       " 'all',\n",
       " 'uses',\n",
       " 'of',\n",
       " 'asbestos',\n",
       " '.',\n",
       " 'By',\n",
       " '1997',\n",
       " ',',\n",
       " 'almost',\n",
       " 'all',\n",
       " 'remaining',\n",
       " 'uses',\n",
       " 'of',\n",
       " 'cancer',\n",
       " '-',\n",
       " 'causing',\n",
       " 'asbestos',\n",
       " 'will',\n",
       " 'be',\n",
       " 'outlawed',\n",
       " '.',\n",
       " 'About',\n",
       " '160',\n",
       " 'workers',\n",
       " 'at',\n",
       " 'a',\n",
       " 'factory',\n",
       " 'that',\n",
       " 'made',\n",
       " 'paper',\n",
       " 'for',\n",
       " 'the',\n",
       " 'Kent',\n",
       " 'filters',\n",
       " 'were',\n",
       " 'exposed',\n",
       " 'to',\n",
       " 'asbestos',\n",
       " 'in',\n",
       " 'the',\n",
       " '1950s',\n",
       " '.',\n",
       " 'Areas',\n",
       " 'of',\n",
       " 'the',\n",
       " 'factory',\n",
       " 'were',\n",
       " 'particularly',\n",
       " 'dusty',\n",
       " 'where',\n",
       " 'the',\n",
       " 'crocidolite',\n",
       " 'was',\n",
       " 'used',\n",
       " '.',\n",
       " 'Workers',\n",
       " 'dumped',\n",
       " 'large',\n",
       " 'burlap',\n",
       " 'sacks',\n",
       " 'of',\n",
       " 'the',\n",
       " 'imported',\n",
       " 'material',\n",
       " 'into',\n",
       " 'a',\n",
       " 'huge',\n",
       " 'bin',\n",
       " ',',\n",
       " 'poured',\n",
       " 'in',\n",
       " 'cotton',\n",
       " 'and',\n",
       " 'acetate',\n",
       " 'fibers',\n",
       " 'and',\n",
       " 'mechanically',\n",
       " 'mixed',\n",
       " 'the',\n",
       " 'dry',\n",
       " 'fibers',\n",
       " 'in',\n",
       " 'a',\n",
       " 'process',\n",
       " 'used',\n",
       " 'to',\n",
       " 'make',\n",
       " 'filters',\n",
       " '.',\n",
       " 'Workers',\n",
       " 'described',\n",
       " '\"',\n",
       " 'clouds',\n",
       " 'of',\n",
       " 'blue',\n",
       " 'dust',\n",
       " '\"',\n",
       " 'that',\n",
       " 'hung',\n",
       " 'over',\n",
       " 'parts',\n",
       " 'of',\n",
       " 'the',\n",
       " 'factory',\n",
       " ',',\n",
       " 'even',\n",
       " 'though',\n",
       " 'exhaust',\n",
       " 'fans',\n",
       " 'ventilated',\n",
       " 'the',\n",
       " 'area',\n",
       " '.',\n",
       " '\"',\n",
       " 'There',\n",
       " \"'\",\n",
       " 's',\n",
       " 'no',\n",
       " 'question',\n",
       " 'that',\n",
       " 'some',\n",
       " 'of',\n",
       " 'those',\n",
       " 'workers',\n",
       " 'and',\n",
       " 'managers',\n",
       " 'contracted',\n",
       " 'asbestos',\n",
       " '-',\n",
       " 'related',\n",
       " 'diseases',\n",
       " ',\"',\n",
       " 'said',\n",
       " 'Darrell',\n",
       " 'Phillips',\n",
       " ',',\n",
       " 'vice',\n",
       " 'president',\n",
       " 'of',\n",
       " 'human',\n",
       " 'resources',\n",
       " 'for',\n",
       " 'Hollingsworth',\n",
       " '&',\n",
       " 'Vose',\n",
       " '.',\n",
       " '\"',\n",
       " 'But',\n",
       " 'you',\n",
       " 'have',\n",
       " 'to',\n",
       " 'recognize',\n",
       " 'that',\n",
       " 'these',\n",
       " 'events',\n",
       " 'took',\n",
       " 'place',\n",
       " '35',\n",
       " 'years',\n",
       " 'ago',\n",
       " '.',\n",
       " 'It',\n",
       " 'has',\n",
       " 'no',\n",
       " 'bearing',\n",
       " 'on',\n",
       " 'our',\n",
       " 'work',\n",
       " 'force',\n",
       " 'today',\n",
       " '.\"',\n",
       " '.',\n",
       " 'START',\n",
       " 'Yields',\n",
       " 'on',\n",
       " 'money',\n",
       " '-',\n",
       " 'market',\n",
       " 'mutual',\n",
       " 'funds',\n",
       " 'continued',\n",
       " 'to',\n",
       " 'slide',\n",
       " ',',\n",
       " 'amid',\n",
       " 'signs',\n",
       " 'that',\n",
       " 'portfolio',\n",
       " 'managers',\n",
       " 'expect',\n",
       " 'further',\n",
       " 'declines',\n",
       " 'in',\n",
       " 'interest',\n",
       " 'rates',\n",
       " '.',\n",
       " 'The',\n",
       " 'average',\n",
       " 'seven',\n",
       " '-',\n",
       " 'day',\n",
       " 'compound',\n",
       " 'yield',\n",
       " 'of',\n",
       " 'the',\n",
       " '400',\n",
       " 'taxable',\n",
       " 'funds',\n",
       " 'tracked',\n",
       " 'by',\n",
       " 'IBC',\n",
       " '/',\n",
       " 'Donoghue',\n",
       " \"'\",\n",
       " 's',\n",
       " 'Money',\n",
       " 'Fund',\n",
       " 'Report',\n",
       " 'eased',\n",
       " 'a',\n",
       " 'fraction',\n",
       " 'of',\n",
       " 'a',\n",
       " 'percentage',\n",
       " 'point',\n",
       " 'to',\n",
       " '8',\n",
       " '.',\n",
       " '45',\n",
       " '%',\n",
       " 'from',\n",
       " '8',\n",
       " '.',\n",
       " '47',\n",
       " '%',\n",
       " 'for',\n",
       " 'the',\n",
       " 'week',\n",
       " 'ended',\n",
       " 'Tuesday',\n",
       " '.',\n",
       " 'Compound',\n",
       " 'yields',\n",
       " 'assume',\n",
       " 'reinvestment',\n",
       " 'of',\n",
       " 'dividends',\n",
       " 'and',\n",
       " 'that',\n",
       " 'the',\n",
       " 'current',\n",
       " 'yield',\n",
       " 'continues',\n",
       " 'for',\n",
       " 'a',\n",
       " 'year',\n",
       " '.',\n",
       " 'Average',\n",
       " 'maturity',\n",
       " 'of',\n",
       " 'the',\n",
       " 'funds',\n",
       " \"'\",\n",
       " 'investments',\n",
       " 'lengthened',\n",
       " 'by',\n",
       " 'a',\n",
       " 'day',\n",
       " 'to',\n",
       " '41',\n",
       " 'days',\n",
       " ',',\n",
       " 'the',\n",
       " 'longest',\n",
       " 'since',\n",
       " 'early',\n",
       " 'August',\n",
       " ',',\n",
       " 'according',\n",
       " 'to',\n",
       " 'Donoghue',\n",
       " \"'\",\n",
       " 's',\n",
       " '.',\n",
       " 'Longer',\n",
       " 'maturities',\n",
       " 'are',\n",
       " 'thought',\n",
       " 'to',\n",
       " 'indicate',\n",
       " 'declining',\n",
       " 'interest',\n",
       " 'rates',\n",
       " 'because',\n",
       " 'they',\n",
       " 'permit',\n",
       " 'portfolio',\n",
       " 'managers',\n",
       " 'to',\n",
       " 'retain',\n",
       " 'relatively',\n",
       " 'higher',\n",
       " 'rates',\n",
       " 'for',\n",
       " 'a',\n",
       " 'longer',\n",
       " 'period',\n",
       " '.',\n",
       " 'Shorter',\n",
       " 'maturities',\n",
       " 'are',\n",
       " 'considered',\n",
       " 'a',\n",
       " 'sign',\n",
       " 'of',\n",
       " 'rising',\n",
       " 'rates',\n",
       " 'because',\n",
       " 'portfolio',\n",
       " 'managers',\n",
       " 'can',\n",
       " 'capture',\n",
       " 'higher',\n",
       " 'rates',\n",
       " 'sooner',\n",
       " '.',\n",
       " 'The',\n",
       " 'average',\n",
       " 'maturity',\n",
       " 'for',\n",
       " 'funds',\n",
       " 'open',\n",
       " 'only',\n",
       " 'to',\n",
       " 'institutions',\n",
       " ',',\n",
       " 'considered',\n",
       " 'by',\n",
       " 'some',\n",
       " 'to',\n",
       " 'be',\n",
       " 'a',\n",
       " 'stronger',\n",
       " 'indicator',\n",
       " 'because',\n",
       " 'those',\n",
       " 'managers',\n",
       " 'watch',\n",
       " 'the',\n",
       " ...]"
      ]
     },
     "execution_count": 119,
     "metadata": {},
     "output_type": "execute_result"
    }
   ],
   "source": [
    "tokens"
   ]
  },
  {
   "cell_type": "markdown",
   "metadata": {},
   "source": [
    "#### Here, tokens is a merged list of tokens from the individual sentences, and boundaries is a set containing the indexes of all sentence-boundary tokens. Next, we need to specify the features of the data that will be used in order to decide whether punctuation indicates a sentence-boundary:"
   ]
  },
  {
   "cell_type": "code",
   "execution_count": 120,
   "metadata": {},
   "outputs": [],
   "source": [
    "def punct_features(tokens, i):\n",
    "    return {'next-word-capitalized': tokens[i+1][0].isupper(),\n",
    "            'prev-word': tokens[i-1].lower(),\n",
    "            'punct': tokens[i],\n",
    "            'prev-word-is-one-char': len(tokens[i-1]) == 1}"
   ]
  },
  {
   "cell_type": "markdown",
   "metadata": {},
   "source": [
    "#### Based on this feature extractor, we can create a list of labeled featuresets by selecting all the punctuation tokens, and tagging whether they are boundary tokens or not:"
   ]
  },
  {
   "cell_type": "code",
   "execution_count": 121,
   "metadata": {},
   "outputs": [],
   "source": [
    "featuresets = [(punct_features(tokens, i), (i in boundaries))\n",
    "               for i in range(1, len(tokens)-1)\n",
    "               if tokens[i] in '.?!']"
   ]
  },
  {
   "cell_type": "markdown",
   "metadata": {},
   "source": [
    "#### Using these featuresets, we can train and evaluate a punctuation classifier:"
   ]
  },
  {
   "cell_type": "code",
   "execution_count": 122,
   "metadata": {},
   "outputs": [],
   "source": [
    "size = int(len(featuresets) * 0.1)"
   ]
  },
  {
   "cell_type": "code",
   "execution_count": 123,
   "metadata": {},
   "outputs": [],
   "source": [
    "train_set, test_set = featuresets[size:], featuresets[:size]"
   ]
  },
  {
   "cell_type": "code",
   "execution_count": 124,
   "metadata": {},
   "outputs": [],
   "source": [
    "classifier = nltk.NaiveBayesClassifier.train(train_set)"
   ]
  },
  {
   "cell_type": "code",
   "execution_count": 125,
   "metadata": {},
   "outputs": [
    {
     "data": {
      "text/plain": [
       "0.936026936026936"
      ]
     },
     "execution_count": 125,
     "metadata": {},
     "output_type": "execute_result"
    }
   ],
   "source": [
    "nltk.classify.accuracy(classifier, test_set)"
   ]
  },
  {
   "cell_type": "markdown",
   "metadata": {},
   "source": [
    "#### To use this classifier to perform sentence segmentation, we simply check each punctuation mark to see whether it's labeled as a boundary; and divide the list of words at the boundary marks. The listing in 2.1 shows how this can be done."
   ]
  },
  {
   "cell_type": "code",
   "execution_count": 126,
   "metadata": {},
   "outputs": [],
   "source": [
    "def segment_sentences(words):\n",
    "    start = 0\n",
    "    sents = []\n",
    "    for i, word in enumerate(words):\n",
    "        if word in '.?!' and classifier.classify(punct_features(words, i)) == True:\n",
    "            sents.append(words[start:i+1])\n",
    "            start = i+1\n",
    "    if start < len(words):\n",
    "        sents.append(words[start:])\n",
    "    return sents"
   ]
  },
  {
   "cell_type": "code",
   "execution_count": 127,
   "metadata": {},
   "outputs": [
    {
     "data": {
      "text/plain": [
       "[['I', 'am', 'going', 'to', 'attend', 'a', 'zoom', 'meeting', '.'],\n",
       " ['This', 'meeting', 'is', 'about', 'NLP']]"
      ]
     },
     "execution_count": 127,
     "metadata": {},
     "output_type": "execute_result"
    }
   ],
   "source": [
    "segment_sentences(['I','am','going','to','attend','a','zoom','meeting','.','This','meeting','is','about','NLP'])"
   ]
  },
  {
   "cell_type": "markdown",
   "metadata": {},
   "source": [
    "### 2.2   Identifying Dialogue Act Types"
   ]
  },
  {
   "cell_type": "markdown",
   "metadata": {},
   "source": [
    "#### When processing dialogue, it can be useful to think of utterances as a type of action performed by the speaker. This interpretation is most straightforward for performative statements such as \"I forgive you\" or \"I bet you can't climb that hill.\" But greetings, questions, answers, assertions, and clarifications can all be thought of as types of speech-based actions. Recognizing the dialogue acts underlying the utterances in a dialogue can be an important first step in understanding the conversation."
   ]
  },
  {
   "cell_type": "markdown",
   "metadata": {},
   "source": [
    "#### The NPS Chat Corpus, which was demonstrated in 1, consists of over 10,000 posts from instant messaging sessions. These posts have all been labeled with one of 15 dialogue act types, such as \"Statement,\" \"Emotion,\" \"ynQuestion\", and \"Continuer.\" We can therefore use this data to build a classifier that can identify the dialogue act types for new instant messaging posts. The first step is to extract the basic messaging data. We will call xml_posts() to get a data structure representing the XML annotation for each post:"
   ]
  },
  {
   "cell_type": "code",
   "execution_count": 128,
   "metadata": {},
   "outputs": [],
   "source": [
    "posts = nltk.corpus.nps_chat.xml_posts()[:10000]"
   ]
  },
  {
   "cell_type": "markdown",
   "metadata": {},
   "source": [
    "#### Next, we'll define a simple feature extractor that checks what words the post contains:"
   ]
  },
  {
   "cell_type": "code",
   "execution_count": 129,
   "metadata": {},
   "outputs": [],
   "source": [
    "def dialogue_act_features(post):\n",
    "    features = {}\n",
    "    for word in nltk.word_tokenize(post):\n",
    "        features['contains({})'.format(word.lower())] = True\n",
    "    return features"
   ]
  },
  {
   "cell_type": "markdown",
   "metadata": {},
   "source": [
    "#### Finally, we construct the training and testing data by applying the feature extractor to each post (using post.get('class') to get a post's dialogue act type), and create a new classifier:"
   ]
  },
  {
   "cell_type": "code",
   "execution_count": 130,
   "metadata": {},
   "outputs": [],
   "source": [
    "featuresets = [(dialogue_act_features(post.text), post.get('class'))\n",
    "              for post in posts]"
   ]
  },
  {
   "cell_type": "code",
   "execution_count": 131,
   "metadata": {},
   "outputs": [],
   "source": [
    "size = int(len(featuresets) * 0.1)"
   ]
  },
  {
   "cell_type": "code",
   "execution_count": 132,
   "metadata": {},
   "outputs": [],
   "source": [
    "train_set, test_set = featuresets[size:], featuresets[:size]"
   ]
  },
  {
   "cell_type": "code",
   "execution_count": 133,
   "metadata": {},
   "outputs": [],
   "source": [
    "classifier = nltk.NaiveBayesClassifier.train(train_set)"
   ]
  },
  {
   "cell_type": "code",
   "execution_count": 134,
   "metadata": {},
   "outputs": [
    {
     "name": "stdout",
     "output_type": "stream",
     "text": [
      "0.668\n"
     ]
    }
   ],
   "source": [
    "print(nltk.classify.accuracy(classifier, test_set))"
   ]
  }
 ],
 "metadata": {
  "kernelspec": {
   "display_name": "Python 3",
   "language": "python",
   "name": "python3"
  },
  "language_info": {
   "codemirror_mode": {
    "name": "ipython",
    "version": 3
   },
   "file_extension": ".py",
   "mimetype": "text/x-python",
   "name": "python",
   "nbconvert_exporter": "python",
   "pygments_lexer": "ipython3",
   "version": "3.7.3"
  }
 },
 "nbformat": 4,
 "nbformat_minor": 2
}
